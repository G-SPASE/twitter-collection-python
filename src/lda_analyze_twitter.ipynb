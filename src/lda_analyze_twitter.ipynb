{
 "cells": [
  {
   "cell_type": "code",
   "execution_count": 1,
   "metadata": {},
   "outputs": [],
   "source": [
    "import os\n",
    "import numpy as np\n",
    "import itertools, operator, os\n",
    "import matplotlib.pyplot as plt\n",
    "# CORPUS_PATH = os.path.join('data/', 'ClassifiedTweet_sample')\n",
    "CORPUS_PATH = os.path.join('/Users/koitaroh/Documents/Data/Tweet/', 'ClassifiedTweet_20150709')\n",
    "filenames = sorted([os.path.join(CORPUS_PATH, fn) for fn in os.listdir(CORPUS_PATH)])"
   ]
  },
  {
   "cell_type": "code",
   "execution_count": 2,
   "metadata": {},
   "outputs": [
    {
     "data": {
      "text/plain": [
       "1484214"
      ]
     },
     "execution_count": 2,
     "output_type": "execute_result",
     "metadata": {}
    }
   ],
   "source": [
    "len(filenames)"
   ]
  },
  {
   "cell_type": "code",
   "execution_count": 3,
   "metadata": {},
   "outputs": [],
   "source": [
    "def grouper(n, iterable, fillvalue=None):\n",
    "    \"Collect data into fixed-length chunks or blocks\"\n",
    "    args = [iter(iterable)] * n\n",
    "    return itertools.zip_longest(*args, fillvalue=fillvalue)"
   ]
  },
  {
   "cell_type": "code",
   "execution_count": 4,
   "metadata": {},
   "outputs": [],
   "source": [
    "doctopic_triples = []\n",
    "mallet_docnames = []"
   ]
  },
  {
   "cell_type": "code",
   "execution_count": 5,
   "metadata": {},
   "outputs": [],
   "source": [
    "# with open(\"/Users/koitaroh/Documents/GitHub/GeoTweetCollector/data/doc-topics-tweet.txt\", encoding=\"utf-8\") as f:\n",
    "with open(\"/Users/koitaroh/Documents/GitHub/GeoTweetCollector/data/doc-topics-tweet-20150709.txt\", encoding=\"utf-8\") as f:\n",
    "    f.readline()  # read one line in order to skip the header\n",
    "    \n",
    "    for line in f:\n",
    "        docnum, docname, *values = line.rstrip().split('\\t')\n",
    "        \n",
    "        mallet_docnames.append(docname)\n",
    "        for topic, share in grouper(2, values):\n",
    "            triple = (docname, int(topic), float(share))\n",
    "            doctopic_triples.append(triple)\n",
    "            \n",
    "# sort the triples\n",
    "# triple is (docname, topicnum, share) so sort(key=operator.itemgetter(0,1))\n",
    "# sorts on (docname, topicnum) which is what we want"
   ]
  },
  {
   "cell_type": "code",
   "execution_count": 7,
   "metadata": {},
   "outputs": [],
   "source": [
    "doctopic_triples = sorted(doctopic_triples, key=operator.itemgetter(0,1))\n",
    "mallet_docnames = sorted(mallet_docnames)"
   ]
  },
  {
   "cell_type": "code",
   "execution_count": 8,
   "metadata": {},
   "outputs": [
    {
     "data": {
      "text/plain": [
       "['file:/Users/koitaroh/Documents/Data/Tweet/ClassifiedTweet_20150709/2015031714_12147_3122.txt',\n",
       " 'file:/Users/koitaroh/Documents/Data/Tweet/ClassifiedTweet_20150709/2015031714_12408_2433.txt',\n",
       " 'file:/Users/koitaroh/Documents/Data/Tweet/ClassifiedTweet_20150709/2015031714_12414_2434.txt',\n",
       " 'file:/Users/koitaroh/Documents/Data/Tweet/ClassifiedTweet_20150709/2015031714_12422_2435.txt',\n",
       " 'file:/Users/koitaroh/Documents/Data/Tweet/ClassifiedTweet_20150709/2015031714_12644_3745.txt',\n",
       " 'file:/Users/koitaroh/Documents/Data/Tweet/ClassifiedTweet_20150709/2015031714_12645_3745.txt',\n",
       " 'file:/Users/koitaroh/Documents/Data/Tweet/ClassifiedTweet_20150709/2015031714_12680_3756.txt',\n",
       " 'file:/Users/koitaroh/Documents/Data/Tweet/ClassifiedTweet_20150709/2015031714_12694_3755.txt',\n",
       " 'file:/Users/koitaroh/Documents/Data/Tweet/ClassifiedTweet_20150709/2015031714_12698_3756.txt',\n",
       " 'file:/Users/koitaroh/Documents/Data/Tweet/ClassifiedTweet_20150709/2015031714_12700_3757.txt']"
      ]
     },
     "execution_count": 8,
     "output_type": "execute_result",
     "metadata": {}
    }
   ],
   "source": [
    "mallet_docnames[:10]"
   ]
  },
  {
   "cell_type": "code",
   "execution_count": 9,
   "metadata": {},
   "outputs": [
    {
     "data": {
      "text/plain": [
       "1484214"
      ]
     },
     "execution_count": 9,
     "output_type": "execute_result",
     "metadata": {}
    }
   ],
   "source": [
    "num_docs = len(mallet_docnames)\n",
    "num_docs"
   ]
  },
  {
   "cell_type": "code",
   "execution_count": 10,
   "metadata": {},
   "outputs": [
    {
     "data": {
      "text/plain": [
       "29684280"
      ]
     },
     "execution_count": 10,
     "output_type": "execute_result",
     "metadata": {}
    }
   ],
   "source": [
    "len(doctopic_triples)"
   ]
  },
  {
   "cell_type": "code",
   "execution_count": 11,
   "metadata": {},
   "outputs": [
    {
     "data": {
      "text/plain": [
       "20"
      ]
     },
     "execution_count": 11,
     "output_type": "execute_result",
     "metadata": {}
    }
   ],
   "source": [
    "num_topics = len(doctopic_triples) // len(mallet_docnames)\n",
    "num_topics"
   ]
  },
  {
   "cell_type": "code",
   "execution_count": 12,
   "metadata": {},
   "outputs": [],
   "source": [
    "doctopic = np.zeros((num_docs, num_topics))"
   ]
  },
  {
   "cell_type": "code",
   "execution_count": 13,
   "metadata": {},
   "outputs": [],
   "source": [
    "i = 0\n",
    "for triple in doctopic_triples:\n",
    "    docname, topic, share = triple\n",
    "    j = i//num_topics\n",
    "    # row_num = mallet_docnames.index(docname)\n",
    "    doctopic[j, topic] = share\n",
    "    i += 1"
   ]
  },
  {
   "cell_type": "code",
   "execution_count": 14,
   "metadata": {},
   "outputs": [
    {
     "data": {
      "text/plain": [
       "array([[ 0.03676471,  0.03676471,  0.06617647,  0.03676471,  0.03676471,\n",
       "         0.03676471,  0.05147059,  0.08088235,  0.06617647,  0.03676471,\n",
       "         0.03676471,  0.08088235,  0.05147059,  0.03676471,  0.08088235,\n",
       "         0.03676471,  0.05147059,  0.05147059,  0.03676471,  0.05147059],\n",
       "       [ 0.04545455,  0.04545455,  0.04545455,  0.04545455,  0.04545455,\n",
       "         0.04545455,  0.04545455,  0.04545455,  0.04545455,  0.04545455,\n",
       "         0.04545455,  0.04545455,  0.06363636,  0.04545455,  0.06363636,\n",
       "         0.04545455,  0.08181818,  0.06363636,  0.04545455,  0.04545455],\n",
       "       [ 0.04807692,  0.06730769,  0.04807692,  0.04807692,  0.04807692,\n",
       "         0.04807692,  0.04807692,  0.04807692,  0.04807692,  0.04807692,\n",
       "         0.04807692,  0.04807692,  0.04807692,  0.04807692,  0.06730769,\n",
       "         0.04807692,  0.04807692,  0.04807692,  0.04807692,  0.04807692],\n",
       "       [ 0.04166667,  0.04166667,  0.09166667,  0.04166667,  0.04166667,\n",
       "         0.075     ,  0.04166667,  0.04166667,  0.04166667,  0.04166667,\n",
       "         0.05833333,  0.05833333,  0.04166667,  0.04166667,  0.04166667,\n",
       "         0.09166667,  0.04166667,  0.04166667,  0.04166667,  0.04166667],\n",
       "       [ 0.04545455,  0.04545455,  0.04545455,  0.05844156,  0.04545455,\n",
       "         0.03246753,  0.17532468,  0.05844156,  0.03246753,  0.03246753,\n",
       "         0.03246753,  0.05844156,  0.03246753,  0.03246753,  0.03246753,\n",
       "         0.03246753,  0.03246753,  0.0974026 ,  0.04545455,  0.03246753]])"
      ]
     },
     "execution_count": 14,
     "output_type": "execute_result",
     "metadata": {}
    }
   ],
   "source": [
    "doctopic[:5]"
   ]
  },
  {
   "cell_type": "code",
   "execution_count": 15,
   "metadata": {},
   "outputs": [],
   "source": [
    "unit_names = []"
   ]
  },
  {
   "cell_type": "code",
   "execution_count": 16,
   "metadata": {},
   "outputs": [],
   "source": [
    "# Scenario 11 total tempo / total spatio\n",
    "# Scenario 12 days / total spatio\n",
    "# Scenario 13 hours / total spatio\n",
    "\n",
    "for fn in filenames:\n",
    "    basename = os.path.basename(fn)\n",
    "    name, ext = os.path.splitext(basename)\n",
    "    name = name.rstrip('0123456789')\n",
    "    name = name.rstrip('-')\n",
    "    name = name.rstrip('_')\n",
    "    name = name.rstrip('0123456789')\n",
    "    name = name.rstrip('-')\n",
    "    name = name.rstrip('_')\n",
    "    unit_names.append(name)"
   ]
  },
  {
   "cell_type": "code",
   "execution_count": 17,
   "metadata": {},
   "outputs": [],
   "source": [
    "unit_names = np.asarray(unit_names)\n",
    "doctopic_orig = doctopic.copy()\n",
    "num_groups = len(set(unit_names))\n",
    "doctopic_grouped = np.zeros((num_groups, num_topics))\n",
    "for i, name in enumerate(sorted(set(unit_names))):\n",
    "    doctopic_grouped[i, :] = np.mean(doctopic[unit_names == name, :], axis=0)\n",
    "doctopic = doctopic_grouped"
   ]
  },
  {
   "cell_type": "code",
   "execution_count": 18,
   "metadata": {},
   "outputs": [
    {
     "data": {
      "text/plain": [
       "array([[ 0.04980463,  0.05209209,  0.04874867,  0.04966302,  0.04986556,\n",
       "         0.0503426 ,  0.04967995,  0.05109752,  0.04906836,  0.05073749,\n",
       "         0.04866086,  0.05117176,  0.05009829,  0.04943591,  0.04974578,\n",
       "         0.05070518,  0.0492259 ,  0.05051576,  0.04865292,  0.05068774]])"
      ]
     },
     "execution_count": 18,
     "output_type": "execute_result",
     "metadata": {}
    }
   ],
   "source": [
    "doctopic[:5]"
   ]
  },
  {
   "cell_type": "code",
   "execution_count": 5,
   "metadata": {},
   "outputs": [],
   "source": [
    "#inspecting the result\n",
    "from sklearn.feature_extraction.text import CountVectorizer\n",
    "# CORPUS_PATH_UNSPLIT = os.path.join('data/', 'ClassifiedTweet_sample')\n",
    "CORPUS_PATH_UNSPLIT = os.path.join('/Users/koitaroh/Documents/Data/Tweet/', 'ClassifiedTweet_20150709')"
   ]
  },
  {
   "cell_type": "code",
   "execution_count": 6,
   "metadata": {},
   "outputs": [],
   "source": [
    "filenames = [os.path.join(CORPUS_PATH_UNSPLIT, fn) for fn in sorted(os.listdir(CORPUS_PATH_UNSPLIT))]"
   ]
  },
  {
   "cell_type": "code",
   "execution_count": 7,
   "metadata": {},
   "outputs": [],
   "source": [
    "vectorizer = CountVectorizer(input='filename')"
   ]
  },
  {
   "cell_type": "code",
   "execution_count": 8,
   "metadata": {},
   "outputs": [],
   "source": [
    "dtm = vectorizer.fit_transform(filenames)  # a sparse matrix"
   ]
  },
  {
   "cell_type": "code",
   "execution_count": 9,
   "metadata": {},
   "outputs": [
    {
     "data": {
      "text/plain": [
       "(1484214, 466392)"
      ]
     },
     "execution_count": 9,
     "output_type": "execute_result",
     "metadata": {}
    }
   ],
   "source": [
    "dtm.shape"
   ]
  },
  {
   "cell_type": "code",
   "execution_count": 10,
   "metadata": {},
   "outputs": [
    {
     "data": {
      "text/plain": [
       "167866384"
      ]
     },
     "execution_count": 10,
     "output_type": "execute_result",
     "metadata": {}
    }
   ],
   "source": [
    "dtm.data.nbytes  # number of bytes dtm takes up"
   ]
  },
  {
   "cell_type": "code",
   "execution_count": null,
   "metadata": {},
   "outputs": [],
   "source": [
    "dtm.toarray().data.nbytes  # number of bytes dtm as array takes up"
   ]
  },
  {
   "cell_type": "code",
   "execution_count": 27,
   "metadata": {},
   "outputs": [
    {
     "data": {
      "text/plain": [
       "(70, 20)"
      ]
     },
     "execution_count": 27,
     "output_type": "execute_result",
     "metadata": {}
    }
   ],
   "source": [
    "doctopic_orig.shape"
   ]
  },
  {
   "cell_type": "code",
   "execution_count": 28,
   "metadata": {},
   "outputs": [
    {
     "data": {
      "text/plain": [
       "11200"
      ]
     },
     "execution_count": 28,
     "output_type": "execute_result",
     "metadata": {}
    }
   ],
   "source": [
    "doctopic_orig.data.nbytes  # number of bytes document-topic shares take up"
   ]
  },
  {
   "cell_type": "code",
   "execution_count": 29,
   "metadata": {},
   "outputs": [],
   "source": [
    "novels = sorted(set(unit_names))"
   ]
  },
  {
   "cell_type": "code",
   "execution_count": 30,
   "metadata": {},
   "outputs": [
    {
     "name": "stdout",
     "output_type": "stream",
     "text": [
      "Top topics in...\n",
      "2015031714: 1 11 7\n"
     ]
    }
   ],
   "source": [
    "print(\"Top topics in...\")\n",
    "for i in range(len(doctopic)):\n",
    "    top_topics = np.argsort(doctopic[i,:])[::-1][0:3]\n",
    "    top_topics_str = ' '.join(str(t) for t in top_topics)\n",
    "    print(\"{}: {}\".format(novels[i], top_topics_str))"
   ]
  },
  {
   "cell_type": "code",
   "execution_count": 33,
   "metadata": {},
   "outputs": [],
   "source": [
    "with open('/Users/koitaroh/Documents/GitHub/GeoTweetCollector/data/topic-keys-tweet-20150714.txt', encoding=\"utf-8\") as input:\n",
    "# with open('/Users/koitaroh/Documents/GitHub/GeoTweetCollector/data/topic-keys-tweet.txt', encoding=\"utf-8\") as input:\n",
    "    topic_keys_lines = input.readlines()"
   ]
  },
  {
   "cell_type": "code",
   "execution_count": 34,
   "metadata": {},
   "outputs": [],
   "source": [
    "topic_words = []"
   ]
  },
  {
   "cell_type": "code",
   "execution_count": 35,
   "metadata": {},
   "outputs": [],
   "source": [
    "for line in topic_keys_lines:\n",
    "    _, _, words = line.split('\\t')  # tab-separated\n",
    "    words = words.rstrip().split(' ')  # remove the trailing '\\n'\n",
    "    topic_words.append(words)"
   ]
  },
  {
   "cell_type": "code",
   "execution_count": 36,
   "metadata": {},
   "outputs": [
    {
     "data": {
      "text/plain": [
       "['ん',\n",
       " 'ます',\n",
       " '歌',\n",
       " 'ちゃ',\n",
       " 'きえ',\n",
       " '買いもの',\n",
       " '算数',\n",
       " 'なんか',\n",
       " '彫',\n",
       " 'まさに',\n",
       " 'ρ',\n",
       " '所',\n",
       " 'タイヤ',\n",
       " 'o',\n",
       " 'やっと',\n",
       " 'あ',\n",
       " 'パークスビジョン',\n",
       " 'こんな',\n",
       " 'すぎる']"
      ]
     },
     "execution_count": 36,
     "output_type": "execute_result",
     "metadata": {}
    }
   ],
   "source": [
    "topic_words[0]"
   ]
  },
  {
   "cell_type": "code",
   "execution_count": 38,
   "metadata": {},
   "outputs": [
    {
     "name": "stdout",
     "output_type": "stream",
     "text": [
      "Topic 0: ん ます 歌 ちゃ きえ 買いもの 算数 なんか 彫 まさに\n",
      "Topic 1: た お する とき 春 ちゃん lan 仙台 良かっ 終了\n",
      "Topic 2: in 入っ イングリッシュ 食べる ゝ 使い 落ち着く はご バイト こ\n",
      "Topic 3: な って なる じゃあ wi ラップ 解ける 有線 麗らか 違う\n",
      "Topic 4: こと 今 だる 市 itmedia 抜き差し wwwww みんな 小 年\n",
      "Topic 5: か わ 栃木 バッグ スト ブロック ば 宿題 最近 青\n",
      "Topic 6: 笑 入れ 豆腐 公衆 刺す 番 思わず s 回線 やすい\n",
      "Topic 7: ー よ ﾟ 小学生 長浜 まし 中 無線 でぶ ツイート\n",
      "Topic 8: 今日 好き sendai 問題 台場 過ぎ おっ カスタム それだけ 軽く\n",
      "Topic 9: なっ 気 キムチ 本日 成長 狩り 帝釈天 柴又 勿論 爆笑\n",
      "Topic 10: おもろい 笑 fi なかっ ありがと やつ 付近 少し ホイール じん\n",
      "Topic 11: て き じゃ もっ あんまり 狼 流行っ 一 あと 体\n",
      "Topic 12: だ いい ω 受付 店員 きん 娘 σ 東京 い\n",
      "Topic 13: ね ん 人 夢中 進ん 県境 都 やる 眩しい ねぇ\n",
      "Topic 14: 変え 作っ でる mobile free ぼく う 薄着 可愛く 切れ\n",
      "Topic 15: た さん うどん できる ーツイート 難しかっ takuya 年中 群馬 駅\n",
      "Topic 16: けど ️ いき ちゃっ 初 ก 死刑 うらやま めちゃくちゃ 長野\n",
      "Topic 17: ない てか 剣 ︎ てる わら や 今週 うち たのしん\n",
      "Topic 18: なう ありがとう いえ サービス 無料 時 あちこち 永山 乗っ 言う\n",
      "Topic 19: 県 部屋 暑い たら だろ とく 匂い さ いちご ヒョエエエエエエ\n"
     ]
    }
   ],
   "source": [
    "N_WORDS_DISPLAY = 10\n",
    "for t in range(len(topic_words)):\n",
    "    print(\"Topic {}: {}\".format(t, ' '.join(topic_words[t][:N_WORDS_DISPLAY])))"
   ]
  },
  {
   "cell_type": "code",
   "execution_count": 18,
   "metadata": {},
   "outputs": [],
   "source": [
    "# Visualizing the result as bar chart\n",
    "N, K = doctopic.shape\n",
    "ind = np.arange(N)  # points on the x-axis\n",
    "width = 0.5"
   ]
  },
  {
   "cell_type": "code",
   "execution_count": 19,
   "metadata": {},
   "outputs": [
    {
     "data": {
      "text/plain": [
       "<Container object of 239 artists>"
      ]
     },
     "execution_count": 19,
     "output_type": "execute_result",
     "metadata": {}
    }
   ],
   "source": [
    "plt.bar(ind, doctopic[:,0], width=width)"
   ]
  },
  {
   "cell_type": "code",
   "execution_count": 20,
   "metadata": {},
   "outputs": [
    {
     "data": {
      "text/plain": [
       "array(['2015031714', '2015031714', '2015031714', ..., '2015032712',\n",
       "       '2015032712', '2015032712'], \n",
       "      dtype='<U10')"
      ]
     },
     "execution_count": 20,
     "output_type": "execute_result",
     "metadata": {}
    }
   ],
   "source": [
    "unit_names"
   ]
  },
  {
   "cell_type": "code",
   "execution_count": 21,
   "metadata": {},
   "outputs": [
    {
     "data": {
      "text/plain": [
       "([<matplotlib.axis.XTick at 0x1cf67ddd8>,\n",
       "  <matplotlib.axis.XTick at 0x1cf68a898>,\n",
       "  <matplotlib.axis.XTick at 0x1ca659630>,\n",
       "  <matplotlib.axis.XTick at 0x1cf590e48>,\n",
       "  <matplotlib.axis.XTick at 0x1ca638898>,\n",
       "  <matplotlib.axis.XTick at 0x1cf59c2e8>,\n",
       "  <matplotlib.axis.XTick at 0x1cf59ccf8>,\n",
       "  <matplotlib.axis.XTick at 0x1cf5a2748>,\n",
       "  <matplotlib.axis.XTick at 0x1cf5a5198>,\n",
       "  <matplotlib.axis.XTick at 0x1cf5a5ba8>,\n",
       "  <matplotlib.axis.XTick at 0x1cf5a85f8>,\n",
       "  <matplotlib.axis.XTick at 0x1cf5ad048>,\n",
       "  <matplotlib.axis.XTick at 0x1cf5ada58>,\n",
       "  <matplotlib.axis.XTick at 0x1cf5b24a8>,\n",
       "  <matplotlib.axis.XTick at 0x1cf5b2eb8>,\n",
       "  <matplotlib.axis.XTick at 0x1cf5b5908>,\n",
       "  <matplotlib.axis.XTick at 0x1cf5ba358>,\n",
       "  <matplotlib.axis.XTick at 0x1cf5bad68>,\n",
       "  <matplotlib.axis.XTick at 0x1cf5bd7b8>,\n",
       "  <matplotlib.axis.XTick at 0x1cf5c2208>,\n",
       "  <matplotlib.axis.XTick at 0x1cf5c2c18>,\n",
       "  <matplotlib.axis.XTick at 0x1cf5c6668>,\n",
       "  <matplotlib.axis.XTick at 0x1cf5cb0b8>,\n",
       "  <matplotlib.axis.XTick at 0x1cf5cbac8>,\n",
       "  <matplotlib.axis.XTick at 0x1cf5cf518>,\n",
       "  <matplotlib.axis.XTick at 0x1cf5cff28>,\n",
       "  <matplotlib.axis.XTick at 0x1cb4b2978>,\n",
       "  <matplotlib.axis.XTick at 0x1cb4b53c8>,\n",
       "  <matplotlib.axis.XTick at 0x1cb4b5dd8>,\n",
       "  <matplotlib.axis.XTick at 0x1cb4b9828>,\n",
       "  <matplotlib.axis.XTick at 0x1cb4be278>,\n",
       "  <matplotlib.axis.XTick at 0x1cb4bec88>,\n",
       "  <matplotlib.axis.XTick at 0x1cb4c16d8>,\n",
       "  <matplotlib.axis.XTick at 0x1cb4c5128>,\n",
       "  <matplotlib.axis.XTick at 0x1cb4c5b38>,\n",
       "  <matplotlib.axis.XTick at 0x1cb4c9588>,\n",
       "  <matplotlib.axis.XTick at 0x1cb4c9f98>,\n",
       "  <matplotlib.axis.XTick at 0x1cb4cf9e8>,\n",
       "  <matplotlib.axis.XTick at 0x1cb4d3438>,\n",
       "  <matplotlib.axis.XTick at 0x1cb4d3e48>,\n",
       "  <matplotlib.axis.XTick at 0x1cb4d7898>,\n",
       "  <matplotlib.axis.XTick at 0x1cb4da2e8>,\n",
       "  <matplotlib.axis.XTick at 0x1cb4dacf8>,\n",
       "  <matplotlib.axis.XTick at 0x1cb4de748>,\n",
       "  <matplotlib.axis.XTick at 0x1cb4e3198>,\n",
       "  <matplotlib.axis.XTick at 0x1cb4e3ba8>,\n",
       "  <matplotlib.axis.XTick at 0x1cb4e65f8>,\n",
       "  <matplotlib.axis.XTick at 0x1cb4eb048>,\n",
       "  <matplotlib.axis.XTick at 0x1cb4eba58>,\n",
       "  <matplotlib.axis.XTick at 0x1cb4ef4a8>,\n",
       "  <matplotlib.axis.XTick at 0x1cb4efeb8>,\n",
       "  <matplotlib.axis.XTick at 0x1cb4f39b0>,\n",
       "  <matplotlib.axis.XTick at 0x1cb4f7400>,\n",
       "  <matplotlib.axis.XTick at 0x1cb4f7e10>,\n",
       "  <matplotlib.axis.XTick at 0x1cb4fa860>,\n",
       "  <matplotlib.axis.XTick at 0x1cb4ff2b0>,\n",
       "  <matplotlib.axis.XTick at 0x1cb4ffcc0>,\n",
       "  <matplotlib.axis.XTick at 0x1cb503710>,\n",
       "  <matplotlib.axis.XTick at 0x1cb507160>,\n",
       "  <matplotlib.axis.XTick at 0x1cb507b70>,\n",
       "  <matplotlib.axis.XTick at 0x1cb50d5c0>,\n",
       "  <matplotlib.axis.XTick at 0x1cb50dfd0>,\n",
       "  <matplotlib.axis.XTick at 0x1cb510a20>,\n",
       "  <matplotlib.axis.XTick at 0x1cb514470>,\n",
       "  <matplotlib.axis.XTick at 0x1cb514e80>,\n",
       "  <matplotlib.axis.XTick at 0x1cb5198d0>,\n",
       "  <matplotlib.axis.XTick at 0x1cb51b320>,\n",
       "  <matplotlib.axis.XTick at 0x1cb51bd30>,\n",
       "  <matplotlib.axis.XTick at 0x1cb520780>,\n",
       "  <matplotlib.axis.XTick at 0x1cb5241d0>,\n",
       "  <matplotlib.axis.XTick at 0x1cb524be0>,\n",
       "  <matplotlib.axis.XTick at 0x1cb527630>,\n",
       "  <matplotlib.axis.XTick at 0x1cb52d080>,\n",
       "  <matplotlib.axis.XTick at 0x1cb52da90>,\n",
       "  <matplotlib.axis.XTick at 0x1cb52f4e0>,\n",
       "  <matplotlib.axis.XTick at 0x1cb52fef0>,\n",
       "  <matplotlib.axis.XTick at 0x1cc604940>,\n",
       "  <matplotlib.axis.XTick at 0x1cc606390>,\n",
       "  <matplotlib.axis.XTick at 0x1cc606da0>,\n",
       "  <matplotlib.axis.XTick at 0x1cc60b7f0>,\n",
       "  <matplotlib.axis.XTick at 0x1cc611240>,\n",
       "  <matplotlib.axis.XTick at 0x1cc611c50>,\n",
       "  <matplotlib.axis.XTick at 0x1cc6146a0>,\n",
       "  <matplotlib.axis.XTick at 0x1cc61a0f0>,\n",
       "  <matplotlib.axis.XTick at 0x1cc61ab00>,\n",
       "  <matplotlib.axis.XTick at 0x1cc61c550>,\n",
       "  <matplotlib.axis.XTick at 0x1cc61cf60>,\n",
       "  <matplotlib.axis.XTick at 0x1cc6209b0>,\n",
       "  <matplotlib.axis.XTick at 0x1cc625400>,\n",
       "  <matplotlib.axis.XTick at 0x1cc625e10>,\n",
       "  <matplotlib.axis.XTick at 0x1cc629860>,\n",
       "  <matplotlib.axis.XTick at 0x1cc62d2b0>,\n",
       "  <matplotlib.axis.XTick at 0x1cc62dcc0>,\n",
       "  <matplotlib.axis.XTick at 0x1cc631710>,\n",
       "  <matplotlib.axis.XTick at 0x1cc634160>,\n",
       "  <matplotlib.axis.XTick at 0x1cc634b70>,\n",
       "  <matplotlib.axis.XTick at 0x1cc6395c0>,\n",
       "  <matplotlib.axis.XTick at 0x1cc639fd0>,\n",
       "  <matplotlib.axis.XTick at 0x1cc63da20>,\n",
       "  <matplotlib.axis.XTick at 0x1cc641470>,\n",
       "  <matplotlib.axis.XTick at 0x1cc641e80>,\n",
       "  <matplotlib.axis.XTick at 0x1cc6478d0>,\n",
       "  <matplotlib.axis.XTick at 0x1cc649320>,\n",
       "  <matplotlib.axis.XTick at 0x1cc649d30>,\n",
       "  <matplotlib.axis.XTick at 0x1cc64e780>,\n",
       "  <matplotlib.axis.XTick at 0x1cc6521d0>,\n",
       "  <matplotlib.axis.XTick at 0x1cc652be0>,\n",
       "  <matplotlib.axis.XTick at 0x1cc657630>,\n",
       "  <matplotlib.axis.XTick at 0x1cc65b080>,\n",
       "  <matplotlib.axis.XTick at 0x1cc65ba90>,\n",
       "  <matplotlib.axis.XTick at 0x1cc65e4e0>,\n",
       "  <matplotlib.axis.XTick at 0x1cc65eef0>,\n",
       "  <matplotlib.axis.XTick at 0x1cc662940>,\n",
       "  <matplotlib.axis.XTick at 0x1cc666390>,\n",
       "  <matplotlib.axis.XTick at 0x1cc666da0>,\n",
       "  <matplotlib.axis.XTick at 0x1cc66b7f0>,\n",
       "  <matplotlib.axis.XTick at 0x1cc66e240>,\n",
       "  <matplotlib.axis.XTick at 0x1cc66ec50>,\n",
       "  <matplotlib.axis.XTick at 0x1cc6736a0>,\n",
       "  <matplotlib.axis.XTick at 0x1cc6760f0>,\n",
       "  <matplotlib.axis.XTick at 0x1cc676b00>,\n",
       "  <matplotlib.axis.XTick at 0x1cc67b550>,\n",
       "  <matplotlib.axis.XTick at 0x1cc67bf60>,\n",
       "  <matplotlib.axis.XTick at 0x1cc6809b0>,\n",
       "  <matplotlib.axis.XTick at 0x1cc683400>,\n",
       "  <matplotlib.axis.XTick at 0x1cc683e10>,\n",
       "  <matplotlib.axis.XTick at 0x1cc688860>,\n",
       "  <matplotlib.axis.XTick at 0x1cc68b2b0>,\n",
       "  <matplotlib.axis.XTick at 0x1cc68bcc0>,\n",
       "  <matplotlib.axis.XTick at 0x1cc690710>,\n",
       "  <matplotlib.axis.XTick at 0x1cc694160>,\n",
       "  <matplotlib.axis.XTick at 0x1cc694b70>,\n",
       "  <matplotlib.axis.XTick at 0x1cc6985c0>,\n",
       "  <matplotlib.axis.XTick at 0x1cc698fd0>,\n",
       "  <matplotlib.axis.XTick at 0x1cc69ca20>,\n",
       "  <matplotlib.axis.XTick at 0x1cc6a0470>,\n",
       "  <matplotlib.axis.XTick at 0x1cc6a0e80>,\n",
       "  <matplotlib.axis.XTick at 0x1cc6a58d0>,\n",
       "  <matplotlib.axis.XTick at 0x1cc6a9320>,\n",
       "  <matplotlib.axis.XTick at 0x1cc6a9d30>,\n",
       "  <matplotlib.axis.XTick at 0x1cc6ad780>,\n",
       "  <matplotlib.axis.XTick at 0x1cc6b01d0>,\n",
       "  <matplotlib.axis.XTick at 0x1cc6b0be0>,\n",
       "  <matplotlib.axis.XTick at 0x1cc6b6630>,\n",
       "  <matplotlib.axis.XTick at 0x1cc6ba080>,\n",
       "  <matplotlib.axis.XTick at 0x1cc6baa90>,\n",
       "  <matplotlib.axis.XTick at 0x1cc6bf4e0>,\n",
       "  <matplotlib.axis.XTick at 0x1cc6bfef0>,\n",
       "  <matplotlib.axis.XTick at 0x1cc6c2940>,\n",
       "  <matplotlib.axis.XTick at 0x1cc6c5390>,\n",
       "  <matplotlib.axis.XTick at 0x1cc6c5da0>,\n",
       "  <matplotlib.axis.XTick at 0x1cc6cb7f0>,\n",
       "  <matplotlib.axis.XTick at 0x1cc6cf240>,\n",
       "  <matplotlib.axis.XTick at 0x1cc6cfc50>,\n",
       "  <matplotlib.axis.XTick at 0x1cc6d36a0>,\n",
       "  <matplotlib.axis.XTick at 0x1cc6d60f0>,\n",
       "  <matplotlib.axis.XTick at 0x1cc6d6b00>,\n",
       "  <matplotlib.axis.XTick at 0x1cc6da550>,\n",
       "  <matplotlib.axis.XTick at 0x1cc6daf60>,\n",
       "  <matplotlib.axis.XTick at 0x1cc6df9b0>,\n",
       "  <matplotlib.axis.XTick at 0x1cc6e4400>,\n",
       "  <matplotlib.axis.XTick at 0x1cc6e4e10>,\n",
       "  <matplotlib.axis.XTick at 0x1cc6e6860>,\n",
       "  <matplotlib.axis.XTick at 0x1cc6eb2b0>,\n",
       "  <matplotlib.axis.XTick at 0x1cc6ebcc0>,\n",
       "  <matplotlib.axis.XTick at 0x1cc6f0710>,\n",
       "  <matplotlib.axis.XTick at 0x1cc6f4160>,\n",
       "  <matplotlib.axis.XTick at 0x1cc6f4b70>,\n",
       "  <matplotlib.axis.XTick at 0x1cc6f95c0>,\n",
       "  <matplotlib.axis.XTick at 0x1cc6f9fd0>,\n",
       "  <matplotlib.axis.XTick at 0x1cc6fba20>,\n",
       "  <matplotlib.axis.XTick at 0x1cf5d4470>,\n",
       "  <matplotlib.axis.XTick at 0x1cf5d4e80>,\n",
       "  <matplotlib.axis.XTick at 0x1cf5d88d0>,\n",
       "  <matplotlib.axis.XTick at 0x1cf5db320>,\n",
       "  <matplotlib.axis.XTick at 0x1cf5dbd30>,\n",
       "  <matplotlib.axis.XTick at 0x1cf5e1780>,\n",
       "  <matplotlib.axis.XTick at 0x1cf5e31d0>,\n",
       "  <matplotlib.axis.XTick at 0x1cf5e3be0>,\n",
       "  <matplotlib.axis.XTick at 0x1cf5e8630>,\n",
       "  <matplotlib.axis.XTick at 0x1cf5ec080>,\n",
       "  <matplotlib.axis.XTick at 0x1cf5eca90>,\n",
       "  <matplotlib.axis.XTick at 0x1cf5f04e0>,\n",
       "  <matplotlib.axis.XTick at 0x1cf5f0ef0>,\n",
       "  <matplotlib.axis.XTick at 0x1cf5f6940>,\n",
       "  <matplotlib.axis.XTick at 0x1cf5f9390>,\n",
       "  <matplotlib.axis.XTick at 0x1cf5f9da0>,\n",
       "  <matplotlib.axis.XTick at 0x1cf5fc7f0>,\n",
       "  <matplotlib.axis.XTick at 0x1cf601240>,\n",
       "  <matplotlib.axis.XTick at 0x1cf601c50>,\n",
       "  <matplotlib.axis.XTick at 0x1cf6056a0>,\n",
       "  <matplotlib.axis.XTick at 0x1cf60b0f0>,\n",
       "  <matplotlib.axis.XTick at 0x1cf60bb00>,\n",
       "  <matplotlib.axis.XTick at 0x1cf60e550>,\n",
       "  <matplotlib.axis.XTick at 0x1cf60ef60>,\n",
       "  <matplotlib.axis.XTick at 0x1cf6119b0>,\n",
       "  <matplotlib.axis.XTick at 0x1cf690400>,\n",
       "  <matplotlib.axis.XTick at 0x1cf690e10>,\n",
       "  <matplotlib.axis.XTick at 0x1cf693860>,\n",
       "  <matplotlib.axis.XTick at 0x1cf6982b0>,\n",
       "  <matplotlib.axis.XTick at 0x1cf698cc0>,\n",
       "  <matplotlib.axis.XTick at 0x1cf69c710>,\n",
       "  <matplotlib.axis.XTick at 0x1cf69f160>,\n",
       "  <matplotlib.axis.XTick at 0x1cf69fb70>,\n",
       "  <matplotlib.axis.XTick at 0x1cf6a45c0>,\n",
       "  <matplotlib.axis.XTick at 0x1cf6a4fd0>,\n",
       "  <matplotlib.axis.XTick at 0x1cf6a8a20>,\n",
       "  <matplotlib.axis.XTick at 0x1cf6ad470>,\n",
       "  <matplotlib.axis.XTick at 0x1cf6ade80>,\n",
       "  <matplotlib.axis.XTick at 0x1cf6b18d0>,\n",
       "  <matplotlib.axis.XTick at 0x1cf6b5320>,\n",
       "  <matplotlib.axis.XTick at 0x1cf6b5d30>,\n",
       "  <matplotlib.axis.XTick at 0x1cf6b8780>,\n",
       "  <matplotlib.axis.XTick at 0x1cf6bd1d0>,\n",
       "  <matplotlib.axis.XTick at 0x1cf6bdbe0>,\n",
       "  <matplotlib.axis.XTick at 0x1cf6c1630>,\n",
       "  <matplotlib.axis.XTick at 0x1cf6c5080>,\n",
       "  <matplotlib.axis.XTick at 0x1cf6c5a90>,\n",
       "  <matplotlib.axis.XTick at 0x1cf6c94e0>,\n",
       "  <matplotlib.axis.XTick at 0x1cf6c9ef0>,\n",
       "  <matplotlib.axis.XTick at 0x1d038e940>,\n",
       "  <matplotlib.axis.XTick at 0x1d0392390>,\n",
       "  <matplotlib.axis.XTick at 0x1d0392da0>,\n",
       "  <matplotlib.axis.XTick at 0x1d03967f0>,\n",
       "  <matplotlib.axis.XTick at 0x1d039b240>,\n",
       "  <matplotlib.axis.XTick at 0x1d039bc50>,\n",
       "  <matplotlib.axis.XTick at 0x1d039f6a0>,\n",
       "  <matplotlib.axis.XTick at 0x1d03a30f0>,\n",
       "  <matplotlib.axis.XTick at 0x1d03a3b00>,\n",
       "  <matplotlib.axis.XTick at 0x1d03a7550>,\n",
       "  <matplotlib.axis.XTick at 0x1d03a7f60>,\n",
       "  <matplotlib.axis.XTick at 0x1d03ab9b0>,\n",
       "  <matplotlib.axis.XTick at 0x1d03af400>,\n",
       "  <matplotlib.axis.XTick at 0x1d03afe10>,\n",
       "  <matplotlib.axis.XTick at 0x1d03b3860>,\n",
       "  <matplotlib.axis.XTick at 0x1d03b72b0>,\n",
       "  <matplotlib.axis.XTick at 0x1d03b7cc0>,\n",
       "  <matplotlib.axis.XTick at 0x1d03bc710>,\n",
       "  <matplotlib.axis.XTick at 0x1d03c0160>],\n",
       " <a list of 239 Text xticklabel objects>)"
      ]
     },
     "execution_count": 21,
     "output_type": "execute_result",
     "metadata": {}
    }
   ],
   "source": [
    "plt.xticks(ind + width/2, unit_names)  # put labels in the center"
   ]
  },
  {
   "cell_type": "code",
   "execution_count": 22,
   "metadata": {},
   "outputs": [],
   "source": [
    "plt.title('Share of Topic #0')\n",
    "plt.show()"
   ]
  },
  {
   "cell_type": "code",
   "execution_count": 23,
   "metadata": {},
   "outputs": [],
   "source": [
    "# Stacked chart\n",
    "N, K = doctopic.shape  # N documents, K topics\n",
    "ind = np.arange(N)  # the x-axis locations for the novels\n",
    "width = 0.5  # the width of the bars\n",
    "plots = []\n",
    "height_cumulative = np.zeros(N)\n",
    "\n",
    "for k in range(K):\n",
    "    color = plt.cm.coolwarm(k/K, 1)\n",
    "    if k == 0:\n",
    "        p = plt.bar(ind, doctopic[:, k], width, color=color)\n",
    "    else:\n",
    "        p = plt.bar(ind, doctopic[:, k], width, bottom=height_cumulative, color=color)\n",
    "    height_cumulative += doctopic[:, k]\n",
    "    plots.append(p)"
   ]
  },
  {
   "cell_type": "code",
   "execution_count": 24,
   "metadata": {},
   "outputs": [
    {
     "data": {
      "text/plain": [
       "(0, 1)"
      ]
     },
     "execution_count": 24,
     "output_type": "execute_result",
     "metadata": {}
    }
   ],
   "source": [
    "plt.ylim((0, 1))  # proportions sum to 1, so the height of the stacked bars is 1"
   ]
  },
  {
   "cell_type": "code",
   "execution_count": 25,
   "metadata": {},
   "outputs": [
    {
     "data": {
      "text/plain": [
       "<matplotlib.text.Text at 0x1cf6bd6d8>"
      ]
     },
     "execution_count": 25,
     "output_type": "execute_result",
     "metadata": {}
    }
   ],
   "source": [
    "plt.ylabel('Topics')"
   ]
  },
  {
   "cell_type": "code",
   "execution_count": 26,
   "metadata": {},
   "outputs": [
    {
     "data": {
      "text/plain": [
       "<matplotlib.text.Text at 0x1cc67b8d0>"
      ]
     },
     "execution_count": 26,
     "output_type": "execute_result",
     "metadata": {}
    }
   ],
   "source": [
    "plt.title('Topics in novels')"
   ]
  },
  {
   "cell_type": "code",
   "execution_count": 27,
   "metadata": {},
   "outputs": [
    {
     "data": {
      "text/plain": [
       "([<matplotlib.axis.XTick at 0x1cc683710>,\n",
       "  <matplotlib.axis.XTick at 0x1cf58ab38>,\n",
       "  <matplotlib.axis.XTick at 0x1cf57da20>,\n",
       "  <matplotlib.axis.XTick at 0x1cf5db9b0>,\n",
       "  <matplotlib.axis.XTick at 0x1d695fba8>,\n",
       "  <matplotlib.axis.XTick at 0x1d69686d8>,\n",
       "  <matplotlib.axis.XTick at 0x1d696d128>,\n",
       "  <matplotlib.axis.XTick at 0x1d696db38>,\n",
       "  <matplotlib.axis.XTick at 0x1d6970588>,\n",
       "  <matplotlib.axis.XTick at 0x1d6970f98>,\n",
       "  <matplotlib.axis.XTick at 0x1d69759e8>,\n",
       "  <matplotlib.axis.XTick at 0x1d6977438>,\n",
       "  <matplotlib.axis.XTick at 0x1d6977e48>,\n",
       "  <matplotlib.axis.XTick at 0x1d697d898>,\n",
       "  <matplotlib.axis.XTick at 0x1d69822e8>,\n",
       "  <matplotlib.axis.XTick at 0x1d6982da0>,\n",
       "  <matplotlib.axis.XTick at 0x1d69847f0>,\n",
       "  <matplotlib.axis.XTick at 0x1d6989240>,\n",
       "  <matplotlib.axis.XTick at 0x1d6989c50>,\n",
       "  <matplotlib.axis.XTick at 0x1d698d6a0>,\n",
       "  <matplotlib.axis.XTick at 0x1d69920f0>,\n",
       "  <matplotlib.axis.XTick at 0x1d6992b00>,\n",
       "  <matplotlib.axis.XTick at 0x1d6996550>,\n",
       "  <matplotlib.axis.XTick at 0x1d6996f60>,\n",
       "  <matplotlib.axis.XTick at 0x1d69989b0>,\n",
       "  <matplotlib.axis.XTick at 0x1d0618400>,\n",
       "  <matplotlib.axis.XTick at 0x1d0618e10>,\n",
       "  <matplotlib.axis.XTick at 0x1d061d860>,\n",
       "  <matplotlib.axis.XTick at 0x1d06212b0>,\n",
       "  <matplotlib.axis.XTick at 0x1d0621cc0>,\n",
       "  <matplotlib.axis.XTick at 0x1d0624710>,\n",
       "  <matplotlib.axis.XTick at 0x1d0628160>,\n",
       "  <matplotlib.axis.XTick at 0x1d0628b70>,\n",
       "  <matplotlib.axis.XTick at 0x1d062d5c0>,\n",
       "  <matplotlib.axis.XTick at 0x1d062dfd0>,\n",
       "  <matplotlib.axis.XTick at 0x1d0632a20>,\n",
       "  <matplotlib.axis.XTick at 0x1d0636470>,\n",
       "  <matplotlib.axis.XTick at 0x1d0636e80>,\n",
       "  <matplotlib.axis.XTick at 0x1d06398d0>,\n",
       "  <matplotlib.axis.XTick at 0x1d063d320>,\n",
       "  <matplotlib.axis.XTick at 0x1d063dd30>,\n",
       "  <matplotlib.axis.XTick at 0x1d0641780>,\n",
       "  <matplotlib.axis.XTick at 0x1d06461d0>,\n",
       "  <matplotlib.axis.XTick at 0x1d0646be0>,\n",
       "  <matplotlib.axis.XTick at 0x1d064a630>,\n",
       "  <matplotlib.axis.XTick at 0x1d064e080>,\n",
       "  <matplotlib.axis.XTick at 0x1d064ea90>,\n",
       "  <matplotlib.axis.XTick at 0x1d06514e0>,\n",
       "  <matplotlib.axis.XTick at 0x1d0651ef0>,\n",
       "  <matplotlib.axis.XTick at 0x1d0655940>,\n",
       "  <matplotlib.axis.XTick at 0x1d065a390>,\n",
       "  <matplotlib.axis.XTick at 0x1d065ada0>,\n",
       "  <matplotlib.axis.XTick at 0x1d065e7f0>,\n",
       "  <matplotlib.axis.XTick at 0x1d0662240>,\n",
       "  <matplotlib.axis.XTick at 0x1d0662c50>,\n",
       "  <matplotlib.axis.XTick at 0x1d06676a0>,\n",
       "  <matplotlib.axis.XTick at 0x1d066b0f0>,\n",
       "  <matplotlib.axis.XTick at 0x1d066bb00>,\n",
       "  <matplotlib.axis.XTick at 0x1d066f550>,\n",
       "  <matplotlib.axis.XTick at 0x1d066ff60>,\n",
       "  <matplotlib.axis.XTick at 0x1d06749b0>,\n",
       "  <matplotlib.axis.XTick at 0x1d0678400>,\n",
       "  <matplotlib.axis.XTick at 0x1d0678e10>,\n",
       "  <matplotlib.axis.XTick at 0x1d067b860>,\n",
       "  <matplotlib.axis.XTick at 0x1d06802b0>,\n",
       "  <matplotlib.axis.XTick at 0x1d0680cc0>,\n",
       "  <matplotlib.axis.XTick at 0x1d0684710>,\n",
       "  <matplotlib.axis.XTick at 0x1d0689160>,\n",
       "  <matplotlib.axis.XTick at 0x1d0689b70>,\n",
       "  <matplotlib.axis.XTick at 0x1d068c5c0>,\n",
       "  <matplotlib.axis.XTick at 0x1d068cfd0>,\n",
       "  <matplotlib.axis.XTick at 0x1d0691a20>,\n",
       "  <matplotlib.axis.XTick at 0x1d0694470>,\n",
       "  <matplotlib.axis.XTick at 0x1d0694e80>,\n",
       "  <matplotlib.axis.XTick at 0x1d27948d0>,\n",
       "  <matplotlib.axis.XTick at 0x1d2799320>,\n",
       "  <matplotlib.axis.XTick at 0x1d2799d30>,\n",
       "  <matplotlib.axis.XTick at 0x1d279d780>,\n",
       "  <matplotlib.axis.XTick at 0x1d27a21d0>,\n",
       "  <matplotlib.axis.XTick at 0x1d27a2be0>,\n",
       "  <matplotlib.axis.XTick at 0x1d27a5630>,\n",
       "  <matplotlib.axis.XTick at 0x1d27a5fd0>,\n",
       "  <matplotlib.axis.XTick at 0x1d27aaa20>,\n",
       "  <matplotlib.axis.XTick at 0x1d27ad470>,\n",
       "  <matplotlib.axis.XTick at 0x1d27ade80>,\n",
       "  <matplotlib.axis.XTick at 0x1d27b28d0>,\n",
       "  <matplotlib.axis.XTick at 0x1d27b6320>,\n",
       "  <matplotlib.axis.XTick at 0x1d27b6d30>,\n",
       "  <matplotlib.axis.XTick at 0x1d27b8780>,\n",
       "  <matplotlib.axis.XTick at 0x1d27be1d0>,\n",
       "  <matplotlib.axis.XTick at 0x1d27bebe0>,\n",
       "  <matplotlib.axis.XTick at 0x1d27c2630>,\n",
       "  <matplotlib.axis.XTick at 0x1d27c6080>,\n",
       "  <matplotlib.axis.XTick at 0x1d27c6a90>,\n",
       "  <matplotlib.axis.XTick at 0x1d27ca4e0>,\n",
       "  <matplotlib.axis.XTick at 0x1d27caef0>,\n",
       "  <matplotlib.axis.XTick at 0x1d27cf940>,\n",
       "  <matplotlib.axis.XTick at 0x1d27d3390>,\n",
       "  <matplotlib.axis.XTick at 0x1d27d3da0>,\n",
       "  <matplotlib.axis.XTick at 0x1d27d77f0>,\n",
       "  <matplotlib.axis.XTick at 0x1d27da240>,\n",
       "  <matplotlib.axis.XTick at 0x1d27dac50>,\n",
       "  <matplotlib.axis.XTick at 0x1d27df6a0>,\n",
       "  <matplotlib.axis.XTick at 0x1d27e30f0>,\n",
       "  <matplotlib.axis.XTick at 0x1d27e3b00>,\n",
       "  <matplotlib.axis.XTick at 0x1d27e7550>,\n",
       "  <matplotlib.axis.XTick at 0x1d27e7f60>,\n",
       "  <matplotlib.axis.XTick at 0x1d27ec9b0>,\n",
       "  <matplotlib.axis.XTick at 0x1d27ee400>,\n",
       "  <matplotlib.axis.XTick at 0x1d27eee10>,\n",
       "  <matplotlib.axis.XTick at 0x1d27f4860>,\n",
       "  <matplotlib.axis.XTick at 0x1d27f62b0>,\n",
       "  <matplotlib.axis.XTick at 0x1d27f6cc0>,\n",
       "  <matplotlib.axis.XTick at 0x1d27fa710>,\n",
       "  <matplotlib.axis.XTick at 0x1d2800160>,\n",
       "  <matplotlib.axis.XTick at 0x1d2800b70>,\n",
       "  <matplotlib.axis.XTick at 0x1d28025c0>,\n",
       "  <matplotlib.axis.XTick at 0x1d2802fd0>,\n",
       "  <matplotlib.axis.XTick at 0x1d280aa20>,\n",
       "  <matplotlib.axis.XTick at 0x1d280d470>,\n",
       "  <matplotlib.axis.XTick at 0x1d280de80>,\n",
       "  <matplotlib.axis.XTick at 0x1d28128d0>,\n",
       "  <matplotlib.axis.XTick at 0x1d699f320>,\n",
       "  <matplotlib.axis.XTick at 0x1d699fd30>,\n",
       "  <matplotlib.axis.XTick at 0x1d69a1780>,\n",
       "  <matplotlib.axis.XTick at 0x1d69a71d0>,\n",
       "  <matplotlib.axis.XTick at 0x1d69a7be0>,\n",
       "  <matplotlib.axis.XTick at 0x1d69ac630>,\n",
       "  <matplotlib.axis.XTick at 0x1d69af080>,\n",
       "  <matplotlib.axis.XTick at 0x1d69afa90>,\n",
       "  <matplotlib.axis.XTick at 0x1d69b34e0>,\n",
       "  <matplotlib.axis.XTick at 0x1d69b3ef0>,\n",
       "  <matplotlib.axis.XTick at 0x1d69b6940>,\n",
       "  <matplotlib.axis.XTick at 0x1d69ba390>,\n",
       "  <matplotlib.axis.XTick at 0x1d69bada0>,\n",
       "  <matplotlib.axis.XTick at 0x1d69c07f0>,\n",
       "  <matplotlib.axis.XTick at 0x1d69c3240>,\n",
       "  <matplotlib.axis.XTick at 0x1d69c3c50>,\n",
       "  <matplotlib.axis.XTick at 0x1d69c86a0>,\n",
       "  <matplotlib.axis.XTick at 0x1d69cb0f0>,\n",
       "  <matplotlib.axis.XTick at 0x1d69cbb00>,\n",
       "  <matplotlib.axis.XTick at 0x1d69cf550>,\n",
       "  <matplotlib.axis.XTick at 0x1d69cff60>,\n",
       "  <matplotlib.axis.XTick at 0x1d69d59b0>,\n",
       "  <matplotlib.axis.XTick at 0x1d69d8400>,\n",
       "  <matplotlib.axis.XTick at 0x1d69d8e10>,\n",
       "  <matplotlib.axis.XTick at 0x1d69dc860>,\n",
       "  <matplotlib.axis.XTick at 0x1d69e02b0>,\n",
       "  <matplotlib.axis.XTick at 0x1d69e0cc0>,\n",
       "  <matplotlib.axis.XTick at 0x1d69e4710>,\n",
       "  <matplotlib.axis.XTick at 0x1d69e9160>,\n",
       "  <matplotlib.axis.XTick at 0x1d69e9b70>,\n",
       "  <matplotlib.axis.XTick at 0x1d69ed5c0>,\n",
       "  <matplotlib.axis.XTick at 0x1d69edfd0>,\n",
       "  <matplotlib.axis.XTick at 0x1d69f0a20>,\n",
       "  <matplotlib.axis.XTick at 0x1d69f4470>,\n",
       "  <matplotlib.axis.XTick at 0x1d69f4e80>,\n",
       "  <matplotlib.axis.XTick at 0x1d69f88d0>,\n",
       "  <matplotlib.axis.XTick at 0x1d69fc320>,\n",
       "  <matplotlib.axis.XTick at 0x1d69fcd30>,\n",
       "  <matplotlib.axis.XTick at 0x1d6a02780>,\n",
       "  <matplotlib.axis.XTick at 0x1d6a051d0>,\n",
       "  <matplotlib.axis.XTick at 0x1d6a05be0>,\n",
       "  <matplotlib.axis.XTick at 0x1d6a0b630>,\n",
       "  <matplotlib.axis.XTick at 0x1d6a0e080>,\n",
       "  <matplotlib.axis.XTick at 0x1d6a0ea90>,\n",
       "  <matplotlib.axis.XTick at 0x1d6a114e0>,\n",
       "  <matplotlib.axis.XTick at 0x1d6a11ef0>,\n",
       "  <matplotlib.axis.XTick at 0x1d6a16940>,\n",
       "  <matplotlib.axis.XTick at 0x1d6a19390>,\n",
       "  <matplotlib.axis.XTick at 0x1d6a19da0>,\n",
       "  <matplotlib.axis.XTick at 0x1d6a1e7f0>,\n",
       "  <matplotlib.axis.XTick at 0x1d6a21240>,\n",
       "  <matplotlib.axis.XTick at 0x1d6a21c50>,\n",
       "  <matplotlib.axis.XTick at 0x1d6a276a0>,\n",
       "  <matplotlib.axis.XTick at 0x1d6a2b0f0>,\n",
       "  <matplotlib.axis.XTick at 0x1d6a2bb00>,\n",
       "  <matplotlib.axis.XTick at 0x1d6a2f550>,\n",
       "  <matplotlib.axis.XTick at 0x1d6a2ff60>,\n",
       "  <matplotlib.axis.XTick at 0x1d6a339b0>,\n",
       "  <matplotlib.axis.XTick at 0x1d6a37400>,\n",
       "  <matplotlib.axis.XTick at 0x1d6a37e10>,\n",
       "  <matplotlib.axis.XTick at 0x1d6a3c860>,\n",
       "  <matplotlib.axis.XTick at 0x1d6a3f2b0>,\n",
       "  <matplotlib.axis.XTick at 0x1d6a3fcc0>,\n",
       "  <matplotlib.axis.XTick at 0x1d6a44710>,\n",
       "  <matplotlib.axis.XTick at 0x1d6a48160>,\n",
       "  <matplotlib.axis.XTick at 0x1d6a48b70>,\n",
       "  <matplotlib.axis.XTick at 0x1d6a4d5c0>,\n",
       "  <matplotlib.axis.XTick at 0x1d6a4dfd0>,\n",
       "  <matplotlib.axis.XTick at 0x1d6a50a20>,\n",
       "  <matplotlib.axis.XTick at 0x1d6a54470>,\n",
       "  <matplotlib.axis.XTick at 0x1d6a54e80>,\n",
       "  <matplotlib.axis.XTick at 0x1d6a588d0>,\n",
       "  <matplotlib.axis.XTick at 0x1d6a5c320>,\n",
       "  <matplotlib.axis.XTick at 0x1d6a5cd30>,\n",
       "  <matplotlib.axis.XTick at 0x1d6a60780>,\n",
       "  <matplotlib.axis.XTick at 0x1d6a651d0>,\n",
       "  <matplotlib.axis.XTick at 0x1d6a65be0>,\n",
       "  <matplotlib.axis.XTick at 0x1d6a69630>,\n",
       "  <matplotlib.axis.XTick at 0x1d6a6d080>,\n",
       "  <matplotlib.axis.XTick at 0x1d6a6da90>,\n",
       "  <matplotlib.axis.XTick at 0x1d6a724e0>,\n",
       "  <matplotlib.axis.XTick at 0x1d6a72ef0>,\n",
       "  <matplotlib.axis.XTick at 0x1d6a75940>,\n",
       "  <matplotlib.axis.XTick at 0x1d6a7b390>,\n",
       "  <matplotlib.axis.XTick at 0x1d6a7bda0>,\n",
       "  <matplotlib.axis.XTick at 0x1d6a7e7f0>,\n",
       "  <matplotlib.axis.XTick at 0x1d6a81240>,\n",
       "  <matplotlib.axis.XTick at 0x1d6a81c50>,\n",
       "  <matplotlib.axis.XTick at 0x1d6a866a0>,\n",
       "  <matplotlib.axis.XTick at 0x1d6a890f0>,\n",
       "  <matplotlib.axis.XTick at 0x1d6a89b00>,\n",
       "  <matplotlib.axis.XTick at 0x1d6a8f550>,\n",
       "  <matplotlib.axis.XTick at 0x1d6a8ff60>,\n",
       "  <matplotlib.axis.XTick at 0x1d6a929b0>,\n",
       "  <matplotlib.axis.XTick at 0x1d6a95400>,\n",
       "  <matplotlib.axis.XTick at 0x1d6a95e10>,\n",
       "  <matplotlib.axis.XTick at 0x1d6a9a860>,\n",
       "  <matplotlib.axis.XTick at 0x1d6a9d2b0>,\n",
       "  <matplotlib.axis.XTick at 0x1d6a9dcc0>,\n",
       "  <matplotlib.axis.XTick at 0x1d6aa3710>,\n",
       "  <matplotlib.axis.XTick at 0x1d6aa7160>,\n",
       "  <matplotlib.axis.XTick at 0x1d6aa7b70>,\n",
       "  <matplotlib.axis.XTick at 0x1d6aaa5c0>,\n",
       "  <matplotlib.axis.XTick at 0x1d6aaafd0>,\n",
       "  <matplotlib.axis.XTick at 0x1d6aafa20>,\n",
       "  <matplotlib.axis.XTick at 0x1d6ab3470>,\n",
       "  <matplotlib.axis.XTick at 0x1d6ab3e80>,\n",
       "  <matplotlib.axis.XTick at 0x1d6ab88d0>,\n",
       "  <matplotlib.axis.XTick at 0x1d6abd320>,\n",
       "  <matplotlib.axis.XTick at 0x1d6abdd30>,\n",
       "  <matplotlib.axis.XTick at 0x1d6abf780>,\n",
       "  <matplotlib.axis.XTick at 0x1d6ac41d0>,\n",
       "  <matplotlib.axis.XTick at 0x1d6ac4be0>,\n",
       "  <matplotlib.axis.XTick at 0x1d6ac9630>,\n",
       "  <matplotlib.axis.XTick at 0x1d6acc080>,\n",
       "  <matplotlib.axis.XTick at 0x1d6acca90>,\n",
       "  <matplotlib.axis.XTick at 0x1d6ad14e0>],\n",
       " <a list of 239 Text xticklabel objects>)"
      ]
     },
     "execution_count": 27,
     "output_type": "execute_result",
     "metadata": {}
    }
   ],
   "source": [
    "plt.xticks(ind+width/2, unit_names)"
   ]
  },
  {
   "cell_type": "code",
   "execution_count": 28,
   "metadata": {},
   "outputs": [
    {
     "data": {
      "text/plain": [
       "([<matplotlib.axis.YTick at 0x1cf676198>],\n",
       " <a list of 1 Text yticklabel objects>)"
      ]
     },
     "execution_count": 28,
     "output_type": "execute_result",
     "metadata": {}
    }
   ],
   "source": [
    "plt.yticks(np.arange(0, 1, 10))"
   ]
  },
  {
   "cell_type": "code",
   "execution_count": 29,
   "metadata": {},
   "outputs": [],
   "source": [
    "topic_labels = ['Topic #{}'.format(k) for k in range(K)]"
   ]
  },
  {
   "cell_type": "code",
   "execution_count": 30,
   "metadata": {},
   "outputs": [],
   "source": [
    "plt.legend([p[0] for p in plots], topic_labels)\n",
    "plt.show()"
   ]
  },
  {
   "cell_type": "code",
   "execution_count": 31,
   "metadata": {},
   "outputs": [
    {
     "data": {
      "text/plain": [
       "<matplotlib.collections.PolyCollection at 0x1d6ab8278>"
      ]
     },
     "execution_count": 31,
     "output_type": "execute_result",
     "metadata": {}
    }
   ],
   "source": [
    "# Heat map\n",
    "# Ref: http://nbviewer.ipython.org/5427209\n",
    "# Ref: http://code.activestate.com/recipes/578175-hierarchical-clustering-heatmap-python/\n",
    "plt.pcolor(doctopic, norm=None, cmap='Blues')"
   ]
  },
  {
   "cell_type": "code",
   "execution_count": 32,
   "metadata": {},
   "outputs": [],
   "source": [
    "# put the major ticks at the middle of each cell\n",
    "# the trailing semicolon ';' suppresses output\n",
    "plt.yticks(np.arange(doctopic.shape[0])+0.5, unit_names);"
   ]
  },
  {
   "cell_type": "code",
   "execution_count": 33,
   "metadata": {},
   "outputs": [],
   "source": [
    "plt.xticks(np.arange(doctopic.shape[1])+0.5, topic_labels);"
   ]
  },
  {
   "cell_type": "code",
   "execution_count": 34,
   "metadata": {},
   "outputs": [],
   "source": [
    "# flip the y-axis so the texts are in the order we anticipate (Austen first, then Brontë)\n",
    "plt.gca().invert_yaxis()"
   ]
  },
  {
   "cell_type": "code",
   "execution_count": 35,
   "metadata": {},
   "outputs": [
    {
     "data": {
      "text/plain": [
       "(array([  0.5,   1.5,   2.5,   3.5,   4.5,   5.5,   6.5,   7.5,   8.5,\n",
       "          9.5,  10.5,  11.5,  12.5,  13.5,  14.5,  15.5,  16.5,  17.5,\n",
       "         18.5,  19.5]), <a list of 20 Text xticklabel objects>)"
      ]
     },
     "execution_count": 35,
     "output_type": "execute_result",
     "metadata": {}
    }
   ],
   "source": [
    "# rotate the ticks on the x-axis\n",
    "plt.xticks(rotation=90)"
   ]
  },
  {
   "cell_type": "code",
   "execution_count": 36,
   "metadata": {},
   "outputs": [
    {
     "data": {
      "text/plain": [
       "<matplotlib.colorbar.Colorbar at 0x1bdca9630>"
      ]
     },
     "execution_count": 36,
     "output_type": "execute_result",
     "metadata": {}
    }
   ],
   "source": [
    "# add a legend\n",
    "plt.colorbar(cmap='Blues')"
   ]
  },
  {
   "cell_type": "code",
   "execution_count": 37,
   "metadata": {},
   "outputs": [
    {
     "name": "stderr",
     "output_type": "stream",
     "text": [
      "/usr/local/lib/python3.4/site-packages/matplotlib/tight_layout.py:225: UserWarning: tight_layout : falling back to Agg renderer\n",
      "  warnings.warn(\"tight_layout : falling back to Agg renderer\")\n"
     ]
    }
   ],
   "source": [
    "plt.tight_layout()  # fixes margins"
   ]
  },
  {
   "cell_type": "code",
   "execution_count": null,
   "metadata": {},
   "outputs": [],
   "source": [
    "plt.show()"
   ]
  },
  {
   "cell_type": "code",
   "execution_count": null,
   "metadata": {},
   "outputs": [],
   "source": [
    ""
   ]
  }
 ],
 "metadata": {
  "kernelspec": {
   "display_name": "Python 3",
   "language": "python",
   "name": "python3"
  },
  "language_info": {
   "codemirror_mode": {
    "name": "ipython",
    "version": 3.0
   },
   "file_extension": ".py",
   "mimetype": "text/x-python",
   "name": "python",
   "nbconvert_exporter": "python",
   "pygments_lexer": "ipython3",
   "version": "3.4.3"
  }
 },
 "nbformat": 4,
 "nbformat_minor": 0
}