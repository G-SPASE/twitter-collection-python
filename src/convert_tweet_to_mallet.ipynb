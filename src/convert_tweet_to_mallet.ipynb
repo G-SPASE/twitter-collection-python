{
 "cells": [
  {
   "cell_type": "code",
   "execution_count": 1,
   "metadata": {},
   "outputs": [],
   "source": [
    "import csv\n",
    "import matplotlib.pyplot as plt\n",
    "import matplotlib\n",
    "matplotlib.style.use('ggplot')\n",
    "from datetime import datetime, date, time\n",
    "import numpy as np\n",
    "import pandas as pd\n",
    "\n",
    "\n",
    "# If dataframe is already created\n",
    "filename = '/Users/koitaroh/Documents/GitHub/GeoTweetCollector/data/tweet_df_20150317142835.csv'\n",
    "# filename = '/Users/koitaroh/Documents/GitHub/GeoTweetCollector/data/tweet_df_20150317142836_test.csv'\n",
    "# filename = '/Users/koitaroh/Documents/GitHub/GeoTweetCollector/data/tweet_df_20150317140245.csv'\n",
    "# filename = '/Users/koitaroh/Documents/GitHub/GeoTweetCollector/data/tweet_20150318_20150324_2.csv'\n",
    "# filename = '/Users/koitaroh/Documents/GitHub/GeoTweetCollector/data/tweet_df_20150318_20150324.csv'"
   ]
  },
  {
   "cell_type": "code",
   "execution_count": 2,
   "metadata": {},
   "outputs": [],
   "source": [
    "tweet_df = pd.read_csv(filename)"
   ]
  },
  {
   "cell_type": "code",
   "execution_count": 3,
   "metadata": {},
   "outputs": [
    {
     "data": {
      "text/html": [
       "<div>\n",
       "<table border=\"1\" class=\"dataframe\">\n",
       "  <thead>\n",
       "    <tr style=\"text-align: right;\">\n",
       "      <th></th>\n",
       "      <th>Unnamed: 0</th>\n",
       "      <th>id</th>\n",
       "      <th>tweet_id</th>\n",
       "      <th>datetime</th>\n",
       "      <th>time</th>\n",
       "      <th>user_name</th>\n",
       "      <th>user_id</th>\n",
       "      <th>x</th>\n",
       "      <th>y</th>\n",
       "      <th>raw_tweet</th>\n",
       "      <th>words</th>\n",
       "      <th>nouns</th>\n",
       "      <th>verbs</th>\n",
       "      <th>adjs</th>\n",
       "      <th>weekday</th>\n",
       "      <th>hour</th>\n",
       "      <th>t_index</th>\n",
       "      <th>x_index</th>\n",
       "      <th>y_index</th>\n",
       "    </tr>\n",
       "  </thead>\n",
       "  <tbody>\n",
       "    <tr>\n",
       "      <th>0</th>\n",
       "      <td>0</td>\n",
       "      <td>1</td>\n",
       "      <td>577703054826340352</td>\n",
       "      <td>2015-03-17 14:28:36</td>\n",
       "      <td>14:28:36</td>\n",
       "      <td>____ddt</td>\n",
       "      <td>147847766</td>\n",
       "      <td>139.616209</td>\n",
       "      <td>35.643938</td>\n",
       "      <td>私は泣かない</td>\n",
       "      <td>私 は 泣か ない</td>\n",
       "      <td>私</td>\n",
       "      <td>泣く</td>\n",
       "      <td>NaN</td>\n",
       "      <td>1</td>\n",
       "      <td>14</td>\n",
       "      <td>2015031714</td>\n",
       "      <td>13961</td>\n",
       "      <td>3564</td>\n",
       "    </tr>\n",
       "    <tr>\n",
       "      <th>1</th>\n",
       "      <td>1</td>\n",
       "      <td>2</td>\n",
       "      <td>577703055233167360</td>\n",
       "      <td>2015-03-17 14:28:36</td>\n",
       "      <td>14:28:36</td>\n",
       "      <td>syu0330ex</td>\n",
       "      <td>2255175997</td>\n",
       "      <td>139.619670</td>\n",
       "      <td>35.463953</td>\n",
       "      <td>モンストでマルチしない？「初陣（火山の精霊）」</td>\n",
       "      <td>モン スト で マルチ し ない ？ 「 初陣 （ 火山 の 精霊 ） 」</td>\n",
       "      <td>モン スト マルチ 初陣 火山 精霊</td>\n",
       "      <td>する</td>\n",
       "      <td>NaN</td>\n",
       "      <td>1</td>\n",
       "      <td>14</td>\n",
       "      <td>2015031714</td>\n",
       "      <td>13961</td>\n",
       "      <td>3546</td>\n",
       "    </tr>\n",
       "    <tr>\n",
       "      <th>2</th>\n",
       "      <td>2</td>\n",
       "      <td>3</td>\n",
       "      <td>577703056504066048</td>\n",
       "      <td>2015-03-17 14:28:36</td>\n",
       "      <td>14:28:36</td>\n",
       "      <td>oragalxx</td>\n",
       "      <td>1473063283</td>\n",
       "      <td>131.605964</td>\n",
       "      <td>33.416199</td>\n",
       "      <td>違うよヽ(‘ ∇‘ )ノ</td>\n",
       "      <td>違う よ ヽ (‘ ∇‘ ) ノ</td>\n",
       "      <td>(‘ ∇‘ )</td>\n",
       "      <td>違う</td>\n",
       "      <td>NaN</td>\n",
       "      <td>1</td>\n",
       "      <td>14</td>\n",
       "      <td>2015031714</td>\n",
       "      <td>13160</td>\n",
       "      <td>3341</td>\n",
       "    </tr>\n",
       "  </tbody>\n",
       "</table>\n",
       "</div>"
      ]
     },
     "output_type": "execute_result",
     "metadata": {}
    }
   ],
   "source": [
    "tweet_df[:3]"
   ]
  },
  {
   "cell_type": "code",
   "execution_count": 24,
   "metadata": {},
   "outputs": [
    {
     "name": "stdout",
     "output_type": "stream",
     "text": [
      "<class 'pandas.core.frame.DataFrame'>\n",
      "Int64Index: 5029 entries, 0 to 5028\n",
      "Data columns (total 19 columns):\n",
      "Unnamed: 0    5029 non-null int64\n",
      "id            5029 non-null int64\n",
      "tweet_id      5029 non-null int64\n",
      "datetime      5029 non-null object\n",
      "time          5029 non-null object\n",
      "user_name     5029 non-null object\n",
      "user_id       5029 non-null int64\n",
      "x             5029 non-null float64\n",
      "y             5029 non-null float64\n",
      "raw_tweet     5000 non-null object\n",
      "words         5000 non-null object\n",
      "nouns         4732 non-null object\n",
      "verbs         3243 non-null object\n",
      "adjs          1492 non-null object\n",
      "weekday       5029 non-null int64\n",
      "hour          5029 non-null int64\n",
      "t_index       5029 non-null int64\n",
      "x_index       5029 non-null int64\n",
      "y_index       5029 non-null int64\n",
      "dtypes: float64(2), int64(9), object(8)\n",
      "memory usage: 785.8+ KB\n"
     ]
    }
   ],
   "source": [
    "tweet_df.info()"
   ]
  },
  {
   "cell_type": "code",
   "execution_count": 4,
   "metadata": {},
   "outputs": [],
   "source": [
    "outdir = '/Users/koitaroh/Documents/GitHub/GeoTweetCollector/data/ClassifiedTweet_20150709/'\n",
    "t_index = \"\"\n",
    "x_index = \"\"\n",
    "y_index = \"\"\n",
    "words = \"\"\n",
    "for index, row in tweet_df.iterrows():\n",
    "    t_index = str(row['t_index'])\n",
    "    x_index = str(row['x_index'])\n",
    "    y_index = str(row['y_index'])\n",
    "    words = str(row['words'])\n",
    "    workfile = t_index + \"_\" + x_index + \"_\" + y_index + \".txt\"\n",
    "    f = open(outdir + workfile, 'a')\n",
    "    f.write(words + \"\\n\")\n",
    "    f.close()"
   ]
  },
  {
   "cell_type": "code",
   "execution_count": null,
   "metadata": {},
   "outputs": [],
   "source": [
    ""
   ]
  }
 ],
 "metadata": {
  "kernelspec": {
   "display_name": "Python 3",
   "language": "python",
   "name": "python3"
  },
  "language_info": {
   "codemirror_mode": {
    "name": "ipython",
    "version": 3.0
   },
   "file_extension": ".py",
   "mimetype": "text/x-python",
   "name": "python",
   "nbconvert_exporter": "python",
   "pygments_lexer": "ipython3",
   "version": "3.4.3"
  }
 },
 "nbformat": 4,
 "nbformat_minor": 0
}