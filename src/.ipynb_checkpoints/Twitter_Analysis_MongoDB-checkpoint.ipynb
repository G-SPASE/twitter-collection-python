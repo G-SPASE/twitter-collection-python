{
 "cells": [
  {
   "cell_type": "code",
   "execution_count": 1,
   "metadata": {
    "collapsed": false
   },
   "outputs": [
    {
     "ename": "ImportError",
     "evalue": "No module named 'matplotlib'",
     "output_type": "error",
     "traceback": [
      "\u001b[0;31m---------------------------------------------------------------------------\u001b[0m",
      "\u001b[0;31mImportError\u001b[0m                               Traceback (most recent call last)",
      "\u001b[0;32m<ipython-input-1-5d74c6a9f62a>\u001b[0m in \u001b[0;36m<module>\u001b[0;34m()\u001b[0m\n\u001b[1;32m      1\u001b[0m \u001b[0;32mimport\u001b[0m \u001b[0mcsv\u001b[0m\u001b[0;34m\u001b[0m\u001b[0m\n\u001b[0;32m----> 2\u001b[0;31m \u001b[0;32mimport\u001b[0m \u001b[0mmatplotlib\u001b[0m\u001b[0;34m.\u001b[0m\u001b[0mpyplot\u001b[0m \u001b[0;32mas\u001b[0m \u001b[0mplt\u001b[0m\u001b[0;34m\u001b[0m\u001b[0m\n\u001b[0m\u001b[1;32m      3\u001b[0m \u001b[0;32mimport\u001b[0m \u001b[0mmatplotlib\u001b[0m\u001b[0;34m\u001b[0m\u001b[0m\n\u001b[1;32m      4\u001b[0m \u001b[0mmatplotlib\u001b[0m\u001b[0;34m.\u001b[0m\u001b[0mstyle\u001b[0m\u001b[0;34m.\u001b[0m\u001b[0muse\u001b[0m\u001b[0;34m(\u001b[0m\u001b[0;34m'ggplot'\u001b[0m\u001b[0;34m)\u001b[0m\u001b[0;34m\u001b[0m\u001b[0m\n\u001b[1;32m      5\u001b[0m \u001b[0;32mfrom\u001b[0m \u001b[0mdatetime\u001b[0m \u001b[0;32mimport\u001b[0m \u001b[0mdatetime\u001b[0m\u001b[0;34m,\u001b[0m \u001b[0mdate\u001b[0m\u001b[0;34m,\u001b[0m \u001b[0mtime\u001b[0m\u001b[0;34m\u001b[0m\u001b[0m\n",
      "\u001b[0;31mImportError\u001b[0m: No module named 'matplotlib'"
     ]
    }
   ],
   "source": [
    "import csv\n",
    "import matplotlib.pyplot as plt\n",
    "import matplotlib\n",
    "matplotlib.style.use('ggplot')\n",
    "from datetime import datetime, date, time\n",
    "import numpy as np\n",
    "import pandas as pd\n",
    "\n",
    "\n",
    "filename = '/Users/koitaroh/Documents/GitHub/GeoTweetCollector/data/tweetphangan6.csv'"
   ]
  },
  {
   "cell_type": "code",
   "execution_count": 3,
   "metadata": {
    "collapsed": true
   },
   "outputs": [],
   "source": [
    "tweet_df = pd.read_csv(filename)"
   ]
  },
  {
   "cell_type": "code",
   "execution_count": 4,
   "metadata": {
    "collapsed": false
   },
   "outputs": [
    {
     "data": {
      "text/html": [
       "<div style=\"max-height:1000px;max-width:1500px;overflow:auto;\">\n",
       "<table border=\"1\" class=\"dataframe\">\n",
       "  <thead>\n",
       "    <tr style=\"text-align: right;\">\n",
       "      <th></th>\n",
       "      <th>Unnamed: 0</th>\n",
       "      <th>Unnamed: 0.1</th>\n",
       "      <th>id</th>\n",
       "      <th>tweet_id</th>\n",
       "      <th>datetime</th>\n",
       "      <th>time</th>\n",
       "      <th>user_name</th>\n",
       "      <th>user_id</th>\n",
       "      <th>x</th>\n",
       "      <th>y</th>\n",
       "      <th>raw_tweet</th>\n",
       "      <th>words</th>\n",
       "      <th>nouns</th>\n",
       "      <th>verbs</th>\n",
       "      <th>adjs</th>\n",
       "      <th>weekday</th>\n",
       "      <th>hour</th>\n",
       "      <th>x_index</th>\n",
       "      <th>y_index</th>\n",
       "    </tr>\n",
       "  </thead>\n",
       "  <tbody>\n",
       "    <tr>\n",
       "      <th>0</th>\n",
       "      <td>212581</td>\n",
       "      <td>212581</td>\n",
       "      <td>212595</td>\n",
       "      <td>577846851891675136</td>\n",
       "      <td>2015-03-18 00:00:00</td>\n",
       "      <td>00:00:00</td>\n",
       "      <td>tai3kote7</td>\n",
       "      <td>2811126049</td>\n",
       "      <td>139.640938</td>\n",
       "      <td>35.526726</td>\n",
       "      <td>春の風の香りが夏の風の香りに変わってきたなー！って</td>\n",
       "      <td>春 の 風 の 香り が 夏 の 風 の 香り に 変わっ て き た なー ！ って</td>\n",
       "      <td>春 風 香り 夏 風 香り</td>\n",
       "      <td>変わる くる</td>\n",
       "      <td>NaN</td>\n",
       "      <td>2</td>\n",
       "      <td>0</td>\n",
       "      <td>13964</td>\n",
       "      <td>3552</td>\n",
       "    </tr>\n",
       "    <tr>\n",
       "      <th>1</th>\n",
       "      <td>212582</td>\n",
       "      <td>212582</td>\n",
       "      <td>212596</td>\n",
       "      <td>577846852126572544</td>\n",
       "      <td>2015-03-18 00:00:00</td>\n",
       "      <td>00:00:00</td>\n",
       "      <td>musicring_k</td>\n",
       "      <td>492282436</td>\n",
       "      <td>134.174040</td>\n",
       "      <td>35.503841</td>\n",
       "      <td>スズキのアルトターボRSのCMソングがDeep PurpleのSpeed Kingだが誰かの...</td>\n",
       "      <td>スズキ の アルト ターボ RS の CM ソング が Deep Purple の Spee...</td>\n",
       "      <td>スズキ アルト ターボ RS CM ソング Deep Purple Speed King 誰...</td>\n",
       "      <td>使う</td>\n",
       "      <td>NaN</td>\n",
       "      <td>2</td>\n",
       "      <td>0</td>\n",
       "      <td>13417</td>\n",
       "      <td>3550</td>\n",
       "    </tr>\n",
       "    <tr>\n",
       "      <th>2</th>\n",
       "      <td>212583</td>\n",
       "      <td>212583</td>\n",
       "      <td>212597</td>\n",
       "      <td>577846852508213248</td>\n",
       "      <td>2015-03-18 00:00:00</td>\n",
       "      <td>00:00:00</td>\n",
       "      <td>tanapi0007</td>\n",
       "      <td>2795740640</td>\n",
       "      <td>140.469788</td>\n",
       "      <td>36.373574</td>\n",
       "      <td>頑張るm(._.)m</td>\n",
       "      <td>頑張る m (._.) m</td>\n",
       "      <td>m (._.) m</td>\n",
       "      <td>頑張る</td>\n",
       "      <td>NaN</td>\n",
       "      <td>2</td>\n",
       "      <td>0</td>\n",
       "      <td>14046</td>\n",
       "      <td>3637</td>\n",
       "    </tr>\n",
       "  </tbody>\n",
       "</table>\n",
       "</div>"
      ]
     },
     "metadata": {},
     "output_type": "execute_result"
    }
   ],
   "source": [
    "tweet_df[:3]\n",
    "# 212581\n",
    "# tweet_df[212581:212584]\n",
    "# 2938465\n",
    "# tweet_df[2938450:2938453]\n",
    "# tweet_df_2 = tweet_df[212581:2938453]"
   ]
  },
  {
   "cell_type": "code",
   "execution_count": 5,
   "metadata": {
    "collapsed": false
   },
   "outputs": [
    {
     "data": {
      "text/plain": [
       "Unnamed: 0        int64\n",
       "Unnamed: 0.1      int64\n",
       "id                int64\n",
       "tweet_id          int64\n",
       "datetime         object\n",
       "time             object\n",
       "user_name        object\n",
       "user_id           int64\n",
       "x               float64\n",
       "y               float64\n",
       "raw_tweet        object\n",
       "words            object\n",
       "nouns            object\n",
       "verbs            object\n",
       "adjs             object\n",
       "weekday           int64\n",
       "hour              int64\n",
       "x_index           int64\n",
       "y_index           int64\n",
       "dtype: object"
      ]
     },
     "execution_count": 5,
     "metadata": {},
     "output_type": "execute_result"
    }
   ],
   "source": [
    "tweet_df.dtypes"
   ]
  },
  {
   "cell_type": "code",
   "execution_count": 5,
   "metadata": {
    "collapsed": false
   },
   "outputs": [
    {
     "data": {
      "text/plain": [
       "'Int64Index: 5029 entries, 0 to 5028'"
      ]
     },
     "execution_count": 5,
     "metadata": {},
     "output_type": "execute_result"
    }
   ],
   "source": [
    "tweet_df.index.summary()"
   ]
  },
  {
   "cell_type": "code",
   "execution_count": 6,
   "metadata": {
    "collapsed": false
   },
   "outputs": [
    {
     "data": {
      "text/html": [
       "<div style=\"max-height:1000px;max-width:1500px;overflow:auto;\">\n",
       "<table border=\"1\" class=\"dataframe\">\n",
       "  <thead>\n",
       "    <tr style=\"text-align: right;\">\n",
       "      <th></th>\n",
       "      <th>id</th>\n",
       "      <th>tweet_id</th>\n",
       "      <th>datetime</th>\n",
       "      <th>time</th>\n",
       "      <th>user_name</th>\n",
       "      <th>user_id</th>\n",
       "      <th>x</th>\n",
       "      <th>y</th>\n",
       "      <th>raw_tweet</th>\n",
       "      <th>words</th>\n",
       "      <th>nouns</th>\n",
       "      <th>verbs</th>\n",
       "      <th>adjs</th>\n",
       "      <th>weekday</th>\n",
       "      <th>hour</th>\n",
       "      <th>x_index</th>\n",
       "      <th>y_index</th>\n",
       "    </tr>\n",
       "  </thead>\n",
       "  <tbody>\n",
       "    <tr>\n",
       "      <th>0</th>\n",
       "      <td>1</td>\n",
       "      <td>577696760300113921</td>\n",
       "      <td>2015-03-17 14:03:35</td>\n",
       "      <td>14:03:35</td>\n",
       "      <td>0912momona_f</td>\n",
       "      <td>2171987316</td>\n",
       "      <td>139.360370</td>\n",
       "      <td>35.392547</td>\n",
       "      <td>よろしく,(^∞,^)</td>\n",
       "      <td>よろしく  (^∞ ^)</td>\n",
       "      <td>(^∞ ^)</td>\n",
       "      <td>NaN</td>\n",
       "      <td>NaN</td>\n",
       "      <td>1</td>\n",
       "      <td>14</td>\n",
       "      <td>13936</td>\n",
       "      <td>3539</td>\n",
       "    </tr>\n",
       "    <tr>\n",
       "      <th>1</th>\n",
       "      <td>2</td>\n",
       "      <td>577696761126350848</td>\n",
       "      <td>2015-03-17 14:03:35</td>\n",
       "      <td>14:03:35</td>\n",
       "      <td>KohseiBbp1211</td>\n",
       "      <td>2337878624</td>\n",
       "      <td>133.011152</td>\n",
       "      <td>33.853656</td>\n",
       "      <td>急遽決まった松山！！しんごとむっくんと３人でいきよるなう</td>\n",
       "      <td>急遽 決まっ た 松山 ！ ！ しん ごと むっくんと ３ 人 で いき よる なう</td>\n",
       "      <td>松山 しん ごと むっくんと ３ 人</td>\n",
       "      <td>決まる いきる よる</td>\n",
       "      <td>ない</td>\n",
       "      <td>1</td>\n",
       "      <td>14</td>\n",
       "      <td>13301</td>\n",
       "      <td>3385</td>\n",
       "    </tr>\n",
       "    <tr>\n",
       "      <th>2</th>\n",
       "      <td>3</td>\n",
       "      <td>577696761797427200</td>\n",
       "      <td>2015-03-17 14:03:35</td>\n",
       "      <td>14:03:35</td>\n",
       "      <td>69magic_s</td>\n",
       "      <td>2832023864</td>\n",
       "      <td>139.771677</td>\n",
       "      <td>35.626511</td>\n",
       "      <td>お台場なう♡♡♡♡たのしんでます、わら</td>\n",
       "      <td>お 台場 なう ♡♡♡♡ たのしん で ます 、 わら</td>\n",
       "      <td>台場 ♡♡♡♡ わら</td>\n",
       "      <td>たのしむ</td>\n",
       "      <td>ない</td>\n",
       "      <td>1</td>\n",
       "      <td>14</td>\n",
       "      <td>13977</td>\n",
       "      <td>3562</td>\n",
       "    </tr>\n",
       "    <tr>\n",
       "      <th>3</th>\n",
       "      <td>4</td>\n",
       "      <td>577696764368535552</td>\n",
       "      <td>2015-03-17 14:03:36</td>\n",
       "      <td>14:03:36</td>\n",
       "      <td>ongakuakaunto</td>\n",
       "      <td>1851868231</td>\n",
       "      <td>136.903085</td>\n",
       "      <td>35.166232</td>\n",
       "      <td>ﾐｽﾐｽﾐｽ。笑</td>\n",
       "      <td>ﾐｽﾐｽﾐｽ 。 笑</td>\n",
       "      <td>ﾐｽﾐｽﾐｽ 笑</td>\n",
       "      <td>NaN</td>\n",
       "      <td>NaN</td>\n",
       "      <td>1</td>\n",
       "      <td>14</td>\n",
       "      <td>13690</td>\n",
       "      <td>3516</td>\n",
       "    </tr>\n",
       "    <tr>\n",
       "      <th>4</th>\n",
       "      <td>5</td>\n",
       "      <td>577696764175785984</td>\n",
       "      <td>2015-03-17 14:03:36</td>\n",
       "      <td>14:03:36</td>\n",
       "      <td>ran5</td>\n",
       "      <td>569055211</td>\n",
       "      <td>137.244823</td>\n",
       "      <td>35.404944</td>\n",
       "      <td>欲しい神話は、アタルカ、シムルガル、ナーセット、サルカン、緑のおっさん。かな、あくまで今の所だけど</td>\n",
       "      <td>欲しい 神話 は 、 アタルカ 、 シムルガル 、 ナーセット 、 サル カン 、 緑 の ...</td>\n",
       "      <td>神話 アタルカ シムルガル ナーセット サル カン 緑 おっさん 今 所</td>\n",
       "      <td>NaN</td>\n",
       "      <td>欲しい</td>\n",
       "      <td>1</td>\n",
       "      <td>14</td>\n",
       "      <td>13724</td>\n",
       "      <td>3540</td>\n",
       "    </tr>\n",
       "  </tbody>\n",
       "</table>\n",
       "</div>"
      ]
     },
     "metadata": {},
     "output_type": "execute_result"
    }
   ],
   "source": [
    "tweet_df_time = tweet_df['datetime']\n",
    "temp = pd.DatetimeIndex(tweet_df['datetime'])\n",
    "# temp = tweet_df['datetime'].dt.weekday\n",
    "tweet_df['weekday'] = temp.weekday\n",
    "tweet_df['hour'] = temp.hour\n",
    "tweet_df['x_index'] = (tweet_df['x']/0.01).astype(int)\n",
    "tweet_df['y_index'] = (tweet_df['y']/0.01).astype(int)\n",
    "\n",
    "tweet_df[:5]"
   ]
  },
  {
   "cell_type": "code",
   "execution_count": 28,
   "metadata": {
    "collapsed": false
   },
   "outputs": [
    {
     "data": {
      "text/html": [
       "<div style=\"max-height:1000px;max-width:1500px;overflow:auto;\">\n",
       "<table border=\"1\" class=\"dataframe\">\n",
       "  <thead>\n",
       "    <tr style=\"text-align: right;\">\n",
       "      <th></th>\n",
       "      <th>id</th>\n",
       "      <th>tweet_id</th>\n",
       "      <th>datetime</th>\n",
       "      <th>time</th>\n",
       "      <th>user_name</th>\n",
       "      <th>user_id</th>\n",
       "      <th>x</th>\n",
       "      <th>y</th>\n",
       "      <th>raw_tweet</th>\n",
       "      <th>words</th>\n",
       "      <th>nouns</th>\n",
       "      <th>verbs</th>\n",
       "      <th>adjs</th>\n",
       "      <th>weekday</th>\n",
       "      <th>hour</th>\n",
       "      <th>x_index</th>\n",
       "      <th>y_index</th>\n",
       "    </tr>\n",
       "  </thead>\n",
       "  <tbody>\n",
       "  </tbody>\n",
       "</table>\n",
       "</div>"
      ]
     },
     "metadata": {},
     "output_type": "execute_result"
    }
   ],
   "source": [
    "# tweet_df[temp == dft[datetime(2015, 3, 17):datetime(2015,3,18)]][:5]\n",
    "# tweet_df.truncate(before=212583, after=212585)\n",
    "tweet_df[212582:212584]\n",
    "tweet_df[2938464:2938466]"
   ]
  },
  {
   "cell_type": "code",
   "execution_count": 22,
   "metadata": {
    "collapsed": true
   },
   "outputs": [],
   "source": [
    "# tweet_df.to_csv('/Users/koitaroh/Documents/GitHub/GeoTweetCollector/data/tweet_df_20150317142836_test.csv', encoding='utf-8')\n",
    "# tweet_df.to_csv('/Users/koitaroh/Documents/GitHub/GeoTweetCollector/data/tweet_df_20150317142835.csv', encoding='utf-8')\n",
    "# tweet_df_2.to_csv('/Users/koitaroh/Documents/GitHub/GeoTweetCollector/data/tweet_df_20150318_20150324.csv', encoding='utf-8')"
   ]
  },
  {
   "cell_type": "code",
   "execution_count": null,
   "metadata": {
    "collapsed": true
   },
   "outputs": [],
   "source": []
  },
  {
   "cell_type": "code",
   "execution_count": 6,
   "metadata": {
    "collapsed": false
   },
   "outputs": [
    {
     "data": {
      "text/plain": [
       "853426070     7543\n",
       "891296444     6849\n",
       "2810810232    6660\n",
       "1597079226    6400\n",
       "1589443879    5498\n",
       "1069106276    5476\n",
       "1601247397    5194\n",
       "1584197490    5050\n",
       "1178442961    4876\n",
       "2164902108    4597\n",
       "2271730350    2678\n",
       "384889871     2433\n",
       "2471221418    2001\n",
       "213287133     1896\n",
       "2651647927    1573\n",
       "252911218     1390\n",
       "2859763566    1381\n",
       "1413112920    1355\n",
       "2687077062    1302\n",
       "2691997471    1271\n",
       "dtype: int64"
      ]
     },
     "execution_count": 6,
     "metadata": {},
     "output_type": "execute_result"
    }
   ],
   "source": [
    "tweet_df_counts = tweet_df['user_id'].value_counts()\n",
    "tweet_df_counts[:20]"
   ]
  },
  {
   "cell_type": "code",
   "execution_count": 7,
   "metadata": {
    "collapsed": true
   },
   "outputs": [],
   "source": [
    "tweet_df_counts[:100].plot(kind='bar')\n",
    "\n",
    "# tweet_df['hour'].plot(kind='hist');\n",
    "# tweet_df.hist('hour', bins=[0,1,2,3,4,5,6,7,8,9,10,11,12,13,14,15,16,17,18,19,20,21,22,23,24], align='right')\n",
    "# tweet_df.hist('weekday', bins=[0,1,2,3,4,5,6,7])\n",
    "plt.show()"
   ]
  },
  {
   "cell_type": "code",
   "execution_count": 8,
   "metadata": {
    "collapsed": true
   },
   "outputs": [],
   "source": [
    "# tweet_df_counts[:20].plot(kind='bar')\n",
    "# plt.figure();\n",
    "# tweet_df['hour'].plot(kind='hist');\n",
    "tweet_df.hist('hour', bins=[0,1,2,3,4,5,6,7,8,9,10,11,12,13,14,15,16,17,18,19,20,21,22,23,24], align='right')\n",
    "tweet_df.hist('weekday', bins=[0,1,2,3,4,5,6,7])\n",
    "plt.show()"
   ]
  },
  {
   "cell_type": "code",
   "execution_count": null,
   "metadata": {
    "collapsed": true
   },
   "outputs": [],
   "source": [
    "tweet_df.hist('x_index')\n",
    "plt.show()"
   ]
  },
  {
   "cell_type": "code",
   "execution_count": 7,
   "metadata": {
    "collapsed": false
   },
   "outputs": [
    {
     "name": "stdout",
     "output_type": "stream",
     "text": [
      "2006-11-21 16:30:00\n",
      "2015-03-17 14:03:35\n"
     ]
    }
   ],
   "source": [
    "reader = csv.reader(open(filename, encoding=\"utf-8\"))\n",
    "next(reader)\n",
    "dt = datetime.strptime(\"21/11/06 16:30\", \"%d/%m/%y %H:%M\")\n",
    "print(dt)\n",
    "dt2 = datetime.strptime(\"2015-03-17 14:03:35\", \"%Y-%m-%d %H:%M:%S\")\n",
    "print(dt2)"
   ]
  },
  {
   "cell_type": "code",
   "execution_count": 8,
   "metadata": {
    "collapsed": true
   },
   "outputs": [],
   "source": [
    "for id, tweet_id, datetime_str, time_str, user_name, user_id, x_str, y_str, raw_tweet, words, nouns, verbs, adjs in reader:\n",
    "    tweet_datetime = datetime.strptime(datetime_str, \"%Y-%m-%d %H:%M:%S\")\n",
    "    if tweet_datetime.weekday() < 5:\n",
    "        continue"
   ]
  },
  {
   "cell_type": "code",
   "execution_count": 1,
   "metadata": {
    "collapsed": true
   },
   "outputs": [],
   "source": [
    "# classify tweets into 7 day classes\n",
    "# if monday, tuesday, wednesday, thursday, friday, saturday, sunday.\n",
    "ret = csv.reader(open(filename, encoding=\"utf-8\"))\n",
    "tweets = [r[9] for r in ret]\n",
    "tweets2 = []\n",
    "for tweet in tweets[:]:\n",
    "    tweet2 = tweet.replace(',', ' ')\n",
    "    # print(tweet)\n",
    "    print(tweet2)\n",
    "    tweets2.append(tweet2)\n",
    "    # if u'@' in tweet2:\n",
    "    #     tweets.remove(tweet)\n",
    "    # if len(tweet) <= 3:\n",
    "    #     tweets.remove(tweet)\n",
    "# print(tweets2)"
   ]
  },
  {
   "cell_type": "code",
   "execution_count": null,
   "metadata": {
    "collapsed": true
   },
   "outputs": [],
   "source": [
    "# classify tweets into 48 classes (in every 30 min)"
   ]
  }
 ],
 "metadata": {
  "kernelspec": {
   "display_name": "Python 3",
   "language": "python",
   "name": "python3"
  },
  "language_info": {
   "codemirror_mode": {
    "name": "ipython",
    "version": 3
   },
   "file_extension": ".py",
   "mimetype": "text/x-python",
   "name": "python",
   "nbconvert_exporter": "python",
   "pygments_lexer": "ipython3",
   "version": "3.5.0"
  }
 },
 "nbformat": 4,
 "nbformat_minor": 0
}
