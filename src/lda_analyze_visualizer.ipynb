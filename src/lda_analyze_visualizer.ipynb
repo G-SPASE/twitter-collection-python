{
 "cells": [
  {
   "cell_type": "code",
   "execution_count": 46,
   "metadata": {},
   "outputs": [],
   "source": [
    "import itertools, operator, os, datetime, csv, io\n",
    "import numpy as np\n",
    "import matplotlib.pyplot as plt\n",
    "from sklearn.feature_extraction.text import CountVectorizer\n",
    "\n",
    "doctopic = np.genfromtxt(\"/Users/koitaroh/Documents/GitHub/GeoTweetCollector/data/doctopic_twitter_20150714_13.csv\", delimiter=',')\n",
    "unit_names = np.genfromtxt(\"/Users/koitaroh/Documents/GitHub/GeoTweetCollector/data/docnames_twitter_20150714_13.csv\", delimiter=',', dtype=None)"
   ]
  },
  {
   "cell_type": "code",
   "execution_count": 47,
   "metadata": {},
   "outputs": [],
   "source": [
    "# Visualizing the result as bar chart\n",
    "\n",
    "N, K = doctopic.shape\n",
    "ind = np.arange(N)  # points on the x-axis\n",
    "width = 0.5"
   ]
  },
  {
   "cell_type": "code",
   "execution_count": 49,
   "metadata": {},
   "outputs": [
    {
     "data": {
      "text/plain": [
       "<Container object of 239 artists>"
      ]
     },
     "execution_count": 49,
     "output_type": "execute_result",
     "metadata": {}
    }
   ],
   "source": [
    "plt.bar(ind, doctopic[:,0], width=width)"
   ]
  },
  {
   "cell_type": "code",
   "execution_count": 52,
   "metadata": {},
   "outputs": [
    {
     "data": {
      "text/plain": [
       "array([2015031714, 2015031715, 2015031716, 2015031717, 2015031718,\n       2015031719, 2015031720, 2015031721, 2015031722, 2015031723,\n       2015031800, 2015031801, 2015031802, 2015031803, 2015031804,\n       2015031805, 2015031806, 2015031807, 2015031808, 2015031809,\n       2015031810, 2015031811, 2015031812, 2015031813, 2015031814,\n       2015031815, 2015031816, 2015031817, 2015031818, 2015031819,\n       2015031820, 2015031821, 2015031822, 2015031823, 2015031900,\n       2015031901, 2015031902, 2015031903, 2015031904, 2015031905,\n       2015031906, 2015031907, 2015031908, 2015031909, 2015031910,\n       2015031911, 2015031912, 2015031913, 2015031914, 2015031915,\n       2015031916, 2015031917, 2015031918, 2015031919, 2015031920,\n       2015031921, 2015031922, 2015031923, 2015032000, 2015032001,\n       2015032002, 2015032003, 2015032004, 2015032005, 2015032006,\n       2015032007, 2015032008, 2015032009, 2015032010, 2015032011,\n       2015032012, 2015032013, 2015032014, 2015032015, 2015032016,\n       2015032017, 2015032018, 2015032019, 2015032020, 2015032021,\n       2015032022, 2015032023, 2015032100, 2015032101, 2015032102,\n       2015032103, 2015032104, 2015032105, 2015032106, 2015032107,\n       2015032108, 2015032109, 2015032110, 2015032111, 2015032112,\n       2015032113, 2015032114, 2015032115, 2015032116, 2015032117,\n       2015032118, 2015032119, 2015032120, 2015032121, 2015032122,\n       2015032123, 2015032200, 2015032201, 2015032202, 2015032203,\n       2015032204, 2015032205, 2015032206, 2015032207, 2015032208,\n       2015032209, 2015032210, 2015032211, 2015032212, 2015032213,\n       2015032214, 2015032215, 2015032216, 2015032217, 2015032218,\n       2015032219, 2015032220, 2015032221, 2015032222, 2015032223,\n       2015032300, 2015032301, 2015032302, 2015032303, 2015032304,\n       2015032305, 2015032306, 2015032307, 2015032308, 2015032309,\n       2015032310, 2015032311, 2015032312, 2015032313, 2015032314,\n       2015032315, 2015032316, 2015032317, 2015032318, 2015032319,\n       2015032320, 2015032321, 2015032322, 2015032323, 2015032400,\n       2015032401, 2015032402, 2015032403, 2015032404, 2015032405,\n       2015032406, 2015032407, 2015032408, 2015032409, 2015032410,\n       2015032411, 2015032412, 2015032413, 2015032414, 2015032415,\n       2015032416, 2015032417, 2015032418, 2015032419, 2015032420,\n       2015032421, 2015032422, 2015032423, 2015032500, 2015032501,\n       2015032502, 2015032503, 2015032504, 2015032505, 2015032506,\n       2015032507, 2015032508, 2015032509, 2015032510, 2015032511,\n       2015032512, 2015032513, 2015032514, 2015032515, 2015032516,\n       2015032517, 2015032518, 2015032519, 2015032520, 2015032521,\n       2015032522, 2015032523, 2015032600, 2015032601, 2015032602,\n       2015032603, 2015032604, 2015032605, 2015032606, 2015032607,\n       2015032608, 2015032609, 2015032610, 2015032611, 2015032612,\n       2015032613, 2015032614, 2015032615, 2015032616, 2015032617,\n       2015032618, 2015032619, 2015032620, 2015032621, 2015032622,\n       2015032623, 2015032700, 2015032701, 2015032702, 2015032703,\n       2015032704, 2015032705, 2015032706, 2015032707, 2015032708,\n       2015032709, 2015032710, 2015032711, 2015032712])"
      ]
     },
     "execution_count": 52,
     "output_type": "execute_result",
     "metadata": {}
    }
   ],
   "source": [
    "unit_names"
   ]
  },
  {
   "cell_type": "code",
   "execution_count": 53,
   "metadata": {},
   "outputs": [
    {
     "data": {
      "text/plain": [
       "([<matplotlib.axis.XTick at 0x1d668d198>,\n  <matplotlib.axis.XTick at 0x1d6829e48>,\n  <matplotlib.axis.XTick at 0x1d5e25320>,\n  <matplotlib.axis.XTick at 0x1d6308358>,\n  <matplotlib.axis.XTick at 0x1d6308d68>,\n  <matplotlib.axis.XTick at 0x1d630d7b8>,\n  <matplotlib.axis.XTick at 0x1d6312208>,\n  <matplotlib.axis.XTick at 0x1d6312c18>,\n  <matplotlib.axis.XTick at 0x1d6315668>,\n  <matplotlib.axis.XTick at 0x1d63190b8>,\n  <matplotlib.axis.XTick at 0x1d6319ac8>,\n  <matplotlib.axis.XTick at 0x1d631d518>,\n  <matplotlib.axis.XTick at 0x1d631df28>,\n  <matplotlib.axis.XTick at 0x1d6322978>,\n  <matplotlib.axis.XTick at 0x1d63263c8>,\n  <matplotlib.axis.XTick at 0x1d6326dd8>,\n  <matplotlib.axis.XTick at 0x1d632a828>,\n  <matplotlib.axis.XTick at 0x1d632e278>,\n  <matplotlib.axis.XTick at 0x1d632ec88>,\n  <matplotlib.axis.XTick at 0x1d63326d8>,\n  <matplotlib.axis.XTick at 0x1d6335128>,\n  <matplotlib.axis.XTick at 0x1d6335b38>,\n  <matplotlib.axis.XTick at 0x1d633b588>,\n  <matplotlib.axis.XTick at 0x1d633bf98>,\n  <matplotlib.axis.XTick at 0x1d633e9e8>,\n  <matplotlib.axis.XTick at 0x1d6343438>,\n  <matplotlib.axis.XTick at 0x1d6343e48>,\n  <matplotlib.axis.XTick at 0x1d6346898>,\n  <matplotlib.axis.XTick at 0x1d63492e8>,\n  <matplotlib.axis.XTick at 0x1d6349cf8>,\n  <matplotlib.axis.XTick at 0x1d6350748>,\n  <matplotlib.axis.XTick at 0x1d6352198>,\n  <matplotlib.axis.XTick at 0x1d6352ba8>,\n  <matplotlib.axis.XTick at 0x1d63575f8>,\n  <matplotlib.axis.XTick at 0x1d635b048>,\n  <matplotlib.axis.XTick at 0x1d635ba58>,\n  <matplotlib.axis.XTick at 0x1d635f4a8>,\n  <matplotlib.axis.XTick at 0x1d635feb8>,\n  <matplotlib.axis.XTick at 0x1d6365908>,\n  <matplotlib.axis.XTick at 0x1d6367358>,\n  <matplotlib.axis.XTick at 0x1d6367d68>,\n  <matplotlib.axis.XTick at 0x1d636b7b8>,\n  <matplotlib.axis.XTick at 0x1d636f208>,\n  <matplotlib.axis.XTick at 0x1d636fc18>,\n  <matplotlib.axis.XTick at 0x1d6373668>,\n  <matplotlib.axis.XTick at 0x1d63790b8>,\n  <matplotlib.axis.XTick at 0x1d6379ac8>,\n  <matplotlib.axis.XTick at 0x1d637c518>,\n  <matplotlib.axis.XTick at 0x1d637cf28>,\n  <matplotlib.axis.XTick at 0x1d637f978>,\n  <matplotlib.axis.XTick at 0x1d63843c8>,\n  <matplotlib.axis.XTick at 0x1d6384dd8>,\n  <matplotlib.axis.XTick at 0x1d6388828>,\n  <matplotlib.axis.XTick at 0x1d638c278>,\n  <matplotlib.axis.XTick at 0x1d638cc88>,\n  <matplotlib.axis.XTick at 0x1d63916d8>,\n  <matplotlib.axis.XTick at 0x1d6395128>,\n  <matplotlib.axis.XTick at 0x1d6395b38>,\n  <matplotlib.axis.XTick at 0x1d6399588>,\n  <matplotlib.axis.XTick at 0x1d6399f98>,\n  <matplotlib.axis.XTick at 0x1d639d9e8>,\n  <matplotlib.axis.XTick at 0x1d63a2438>,\n  <matplotlib.axis.XTick at 0x1d63a2e48>,\n  <matplotlib.axis.XTick at 0x1d63a5898>,\n  <matplotlib.axis.XTick at 0x1d63aa2e8>,\n  <matplotlib.axis.XTick at 0x1d63aacf8>,\n  <matplotlib.axis.XTick at 0x1d63ad748>,\n  <matplotlib.axis.XTick at 0x1d63b1198>,\n  <matplotlib.axis.XTick at 0x1d63b1ba8>,\n  <matplotlib.axis.XTick at 0x1d63b65f8>,\n  <matplotlib.axis.XTick at 0x1d63b9048>,\n  <matplotlib.axis.XTick at 0x1d63b9a58>,\n  <matplotlib.axis.XTick at 0x1d63be4a8>,\n  <matplotlib.axis.XTick at 0x1d63beeb8>,\n  <matplotlib.axis.XTick at 0x1d63c1908>,\n  <matplotlib.axis.XTick at 0x1d63c7358>,\n  <matplotlib.axis.XTick at 0x1d63c7d68>,\n  <matplotlib.axis.XTick at 0x1d63cb7b8>,\n  <matplotlib.axis.XTick at 0x1d63ce208>,\n  <matplotlib.axis.XTick at 0x1d63cec18>,\n  <matplotlib.axis.XTick at 0x1d63d3668>,\n  <matplotlib.axis.XTick at 0x1d63d60b8>,\n  <matplotlib.axis.XTick at 0x1d63d6ac8>,\n  <matplotlib.axis.XTick at 0x1d63db518>,\n  <matplotlib.axis.XTick at 0x1d63dbf28>,\n  <matplotlib.axis.XTick at 0x1d63df978>,\n  <matplotlib.axis.XTick at 0x1d63e23c8>,\n  <matplotlib.axis.XTick at 0x1d63e2dd8>,\n  <matplotlib.axis.XTick at 0x1d63e7828>,\n  <matplotlib.axis.XTick at 0x1d63eb278>,\n  <matplotlib.axis.XTick at 0x1d63ebc88>,\n  <matplotlib.axis.XTick at 0x1d63ee6d8>,\n  <matplotlib.axis.XTick at 0x1d63f4128>,\n  <matplotlib.axis.XTick at 0x1d63f4b38>,\n  <matplotlib.axis.XTick at 0x1d63f6588>,\n  <matplotlib.axis.XTick at 0x1d63f6f98>,\n  <matplotlib.axis.XTick at 0x1d63fc9e8>,\n  <matplotlib.axis.XTick at 0x1d6400438>,\n  <matplotlib.axis.XTick at 0x1d6400e48>,\n  <matplotlib.axis.XTick at 0x1d6404898>,\n  <matplotlib.axis.XTick at 0x1d64092e8>,\n  <matplotlib.axis.XTick at 0x1d6409cf8>,\n  <matplotlib.axis.XTick at 0x1d640c748>,\n  <matplotlib.axis.XTick at 0x1d6410198>,\n  <matplotlib.axis.XTick at 0x1d6410ba8>,\n  <matplotlib.axis.XTick at 0x1d64145f8>,\n  <matplotlib.axis.XTick at 0x1d6418048>,\n  <matplotlib.axis.XTick at 0x1d6418a58>,\n  <matplotlib.axis.XTick at 0x1d641d4a8>,\n  <matplotlib.axis.XTick at 0x1d641deb8>,\n  <matplotlib.axis.XTick at 0x1d6420898>,\n  <matplotlib.axis.XTick at 0x1d64242e8>,\n  <matplotlib.axis.XTick at 0x1d6424cf8>,\n  <matplotlib.axis.XTick at 0x1d6428748>,\n  <matplotlib.axis.XTick at 0x1d642d198>,\n  <matplotlib.axis.XTick at 0x1d642dba8>,\n  <matplotlib.axis.XTick at 0x1d64315f8>,\n  <matplotlib.axis.XTick at 0x1d6436048>,\n  <matplotlib.axis.XTick at 0x1d6436a58>,\n  <matplotlib.axis.XTick at 0x1d64394a8>,\n  <matplotlib.axis.XTick at 0x1d6439eb8>,\n  <matplotlib.axis.XTick at 0x1d643e908>,\n  <matplotlib.axis.XTick at 0x1d6442358>,\n  <matplotlib.axis.XTick at 0x1d6442d68>,\n  <matplotlib.axis.XTick at 0x1d64457b8>,\n  <matplotlib.axis.XTick at 0x1d644b208>,\n  <matplotlib.axis.XTick at 0x1d644bc18>,\n  <matplotlib.axis.XTick at 0x1d644d668>,\n  <matplotlib.axis.XTick at 0x1d64530b8>,\n  <matplotlib.axis.XTick at 0x1d6453ac8>,\n  <matplotlib.axis.XTick at 0x1d6456518>,\n  <matplotlib.axis.XTick at 0x1d6456f28>,\n  <matplotlib.axis.XTick at 0x1d645a978>,\n  <matplotlib.axis.XTick at 0x1d645e3c8>,\n  <matplotlib.axis.XTick at 0x1d645edd8>,\n  <matplotlib.axis.XTick at 0x1d6461828>,\n  <matplotlib.axis.XTick at 0x1d6466278>,\n  <matplotlib.axis.XTick at 0x1d6466c88>,\n  <matplotlib.axis.XTick at 0x1d646c6d8>,\n  <matplotlib.axis.XTick at 0x1d646f128>,\n  <matplotlib.axis.XTick at 0x1d646fb38>,\n  <matplotlib.axis.XTick at 0x1d6474588>,\n  <matplotlib.axis.XTick at 0x1d6474f98>,\n  <matplotlib.axis.XTick at 0x1d64779e8>,\n  <matplotlib.axis.XTick at 0x1d647b438>,\n  <matplotlib.axis.XTick at 0x1d647be48>,\n  <matplotlib.axis.XTick at 0x1d6480898>,\n  <matplotlib.axis.XTick at 0x1d64832e8>,\n  <matplotlib.axis.XTick at 0x1d6483cf8>,\n  <matplotlib.axis.XTick at 0x1d6487748>,\n  <matplotlib.axis.XTick at 0x1d648b198>,\n  <matplotlib.axis.XTick at 0x1d648bba8>,\n  <matplotlib.axis.XTick at 0x1d648f5f8>,\n  <matplotlib.axis.XTick at 0x1d6495048>,\n  <matplotlib.axis.XTick at 0x1d6495a58>,\n  <matplotlib.axis.XTick at 0x1d64974a8>,\n  <matplotlib.axis.XTick at 0x1d6497eb8>,\n  <matplotlib.axis.XTick at 0x1d649c908>,\n  <matplotlib.axis.XTick at 0x1d649f358>,\n  <matplotlib.axis.XTick at 0x1d649fd68>,\n  <matplotlib.axis.XTick at 0x1d64a47b8>,\n  <matplotlib.axis.XTick at 0x1d64a9208>,\n  <matplotlib.axis.XTick at 0x1d64a9c18>,\n  <matplotlib.axis.XTick at 0x1d64ac668>,\n  <matplotlib.axis.XTick at 0x1d64b10b8>,\n  <matplotlib.axis.XTick at 0x1d64b1ac8>,\n  <matplotlib.axis.XTick at 0x1d64b4518>,\n  <matplotlib.axis.XTick at 0x1d64b4f28>,\n  <matplotlib.axis.XTick at 0x1d64b9978>,\n  <matplotlib.axis.XTick at 0x1d64bd3c8>,\n  <matplotlib.axis.XTick at 0x1d64bddd8>,\n  <matplotlib.axis.XTick at 0x1d64c0828>,\n  <matplotlib.axis.XTick at 0x1d64c5278>,\n  <matplotlib.axis.XTick at 0x1d64c5c88>,\n  <matplotlib.axis.XTick at 0x1d64c86d8>,\n  <matplotlib.axis.XTick at 0x1d64ce128>,\n  <matplotlib.axis.XTick at 0x1d64ceb38>,\n  <matplotlib.axis.XTick at 0x1d64d1588>,\n  <matplotlib.axis.XTick at 0x1d64d1f98>,\n  <matplotlib.axis.XTick at 0x1d64d59e8>,\n  <matplotlib.axis.XTick at 0x1d64da438>,\n  <matplotlib.axis.XTick at 0x1d64dae48>,\n  <matplotlib.axis.XTick at 0x1d64de898>,\n  <matplotlib.axis.XTick at 0x1d64e32e8>,\n  <matplotlib.axis.XTick at 0x1d64e3cf8>,\n  <matplotlib.axis.XTick at 0x1d64e6748>,\n  <matplotlib.axis.XTick at 0x1d64ea198>,\n  <matplotlib.axis.XTick at 0x1d64eaba8>,\n  <matplotlib.axis.XTick at 0x1d64ee5f8>,\n  <matplotlib.axis.XTick at 0x1d64f3048>,\n  <matplotlib.axis.XTick at 0x1d64f3a58>,\n  <matplotlib.axis.XTick at 0x1d64f74a8>,\n  <matplotlib.axis.XTick at 0x1d64f7eb8>,\n  <matplotlib.axis.XTick at 0x1d64fb908>,\n  <matplotlib.axis.XTick at 0x1d64fd358>,\n  <matplotlib.axis.XTick at 0x1d64fdd68>,\n  <matplotlib.axis.XTick at 0x1d65027b8>,\n  <matplotlib.axis.XTick at 0x1d6507208>,\n  <matplotlib.axis.XTick at 0x1d6507c18>,\n  <matplotlib.axis.XTick at 0x1d650c668>,\n  <matplotlib.axis.XTick at 0x1d65100b8>,\n  <matplotlib.axis.XTick at 0x1d6510ac8>,\n  <matplotlib.axis.XTick at 0x1d6512518>,\n  <matplotlib.axis.XTick at 0x1d6512f28>,\n  <matplotlib.axis.XTick at 0x1d6518978>,\n  <matplotlib.axis.XTick at 0x1d651b3c8>,\n  <matplotlib.axis.XTick at 0x1d651bdd8>,\n  <matplotlib.axis.XTick at 0x1d6520828>,\n  <matplotlib.axis.XTick at 0x1d6524278>,\n  <matplotlib.axis.XTick at 0x1d6524c88>,\n  <matplotlib.axis.XTick at 0x1d65276d8>,\n  <matplotlib.axis.XTick at 0x1d652c128>,\n  <matplotlib.axis.XTick at 0x1d652cb38>,\n  <matplotlib.axis.XTick at 0x1d6530588>,\n  <matplotlib.axis.XTick at 0x1d6530f98>,\n  <matplotlib.axis.XTick at 0x1d65349e8>,\n  <matplotlib.axis.XTick at 0x1d6538438>,\n  <matplotlib.axis.XTick at 0x1d6538e48>,\n  <matplotlib.axis.XTick at 0x1d653c898>,\n  <matplotlib.axis.XTick at 0x1d653f2e8>,\n  <matplotlib.axis.XTick at 0x1d653fcf8>,\n  <matplotlib.axis.XTick at 0x1d6545748>,\n  <matplotlib.axis.XTick at 0x1d6549198>,\n  <matplotlib.axis.XTick at 0x1d6549ba8>,\n  <matplotlib.axis.XTick at 0x1d654e5f8>,\n  <matplotlib.axis.XTick at 0x1d6552048>,\n  <matplotlib.axis.XTick at 0x1d6552a58>,\n  <matplotlib.axis.XTick at 0x1d65544a8>,\n  <matplotlib.axis.XTick at 0x1d6554eb8>,\n  <matplotlib.axis.XTick at 0x1d655a908>,\n  <matplotlib.axis.XTick at 0x1d655d358>,\n  <matplotlib.axis.XTick at 0x1d655dd68>,\n  <matplotlib.axis.XTick at 0x1d65617b8>,\n  <matplotlib.axis.XTick at 0x1d6566208>,\n  <matplotlib.axis.XTick at 0x1d6566c18>,\n  <matplotlib.axis.XTick at 0x1d6569668>,\n  <matplotlib.axis.XTick at 0x1d656e0b8>,\n  <matplotlib.axis.XTick at 0x1d656eac8>,\n  <matplotlib.axis.XTick at 0x1d6571518>],\n <a list of 239 Text xticklabel objects>)"
      ]
     },
     "execution_count": 53,
     "output_type": "execute_result",
     "metadata": {}
    }
   ],
   "source": [
    "plt.xticks(ind + width/2, unit_names)  # put labels in the center"
   ]
  },
  {
   "cell_type": "code",
   "execution_count": 54,
   "metadata": {},
   "outputs": [],
   "source": [
    "plt.title('Share of Topic #0')\n",
    "plt.show()"
   ]
  },
  {
   "cell_type": "code",
   "execution_count": 55,
   "metadata": {},
   "outputs": [],
   "source": [
    "# Stacked chart\n",
    "N, K = doctopic.shape  # N documents, K topics\n",
    "ind = np.arange(N)  # the x-axis locations for the novels\n",
    "width = 0.5  # the width of the bars\n",
    "plots = []\n",
    "height_cumulative = np.zeros(N)\n",
    "\n",
    "for k in range(K):\n",
    "    color = plt.cm.coolwarm(k/K, 1)\n",
    "    if k == 0:\n",
    "        p = plt.bar(ind, doctopic[:, k], width, color=color)\n",
    "    else:\n",
    "        p = plt.bar(ind, doctopic[:, k], width, bottom=height_cumulative, color=color)\n",
    "    height_cumulative += doctopic[:, k]\n",
    "    plots.append(p)"
   ]
  },
  {
   "cell_type": "code",
   "execution_count": 56,
   "metadata": {},
   "outputs": [
    {
     "data": {
      "text/plain": [
       "(0, 1)"
      ]
     },
     "execution_count": 56,
     "output_type": "execute_result",
     "metadata": {}
    }
   ],
   "source": [
    "plt.ylim((0, 1))  # proportions sum to 1, so the height of the stacked bars is 1"
   ]
  },
  {
   "cell_type": "code",
   "execution_count": 57,
   "metadata": {},
   "outputs": [
    {
     "data": {
      "text/plain": [
       "<matplotlib.text.Text at 0x1d6e6fc18>"
      ]
     },
     "execution_count": 57,
     "output_type": "execute_result",
     "metadata": {}
    }
   ],
   "source": [
    "plt.ylabel('Topics')"
   ]
  },
  {
   "cell_type": "code",
   "execution_count": 58,
   "metadata": {},
   "outputs": [
    {
     "data": {
      "text/plain": [
       "<matplotlib.text.Text at 0x1d6e7be10>"
      ]
     },
     "execution_count": 58,
     "output_type": "execute_result",
     "metadata": {}
    }
   ],
   "source": [
    "plt.title('Topics in tweets')"
   ]
  },
  {
   "cell_type": "code",
   "execution_count": 64,
   "metadata": {},
   "outputs": [
    {
     "data": {
      "text/plain": [
       "([<matplotlib.axis.XTick at 0x1d6552dd8>,\n  <matplotlib.axis.XTick at 0x1d654e0f0>,\n  <matplotlib.axis.XTick at 0x1d64d1eb8>,\n  <matplotlib.axis.XTick at 0x1d6518208>,\n  <matplotlib.axis.XTick at 0x21331c048>,\n  <matplotlib.axis.XTick at 0x21331ceb8>,\n  <matplotlib.axis.XTick at 0x213323908>,\n  <matplotlib.axis.XTick at 0x213326358>,\n  <matplotlib.axis.XTick at 0x213326d68>,\n  <matplotlib.axis.XTick at 0x21332c7b8>,\n  <matplotlib.axis.XTick at 0x213330208>,\n  <matplotlib.axis.XTick at 0x213330c18>,\n  <matplotlib.axis.XTick at 0x213333668>,\n  <matplotlib.axis.XTick at 0x2133370b8>,\n  <matplotlib.axis.XTick at 0x213337ac8>,\n  <matplotlib.axis.XTick at 0x2096f2518>,\n  <matplotlib.axis.XTick at 0x2096f2f28>,\n  <matplotlib.axis.XTick at 0x2096f9978>,\n  <matplotlib.axis.XTick at 0x2096fc3c8>,\n  <matplotlib.axis.XTick at 0x2096fcdd8>,\n  <matplotlib.axis.XTick at 0x209700828>,\n  <matplotlib.axis.XTick at 0x209704278>,\n  <matplotlib.axis.XTick at 0x209704c88>,\n  <matplotlib.axis.XTick at 0x2097076d8>,\n  <matplotlib.axis.XTick at 0x20970d128>,\n  <matplotlib.axis.XTick at 0x20970db38>,\n  <matplotlib.axis.XTick at 0x209710588>,\n  <matplotlib.axis.XTick at 0x209710f98>,\n  <matplotlib.axis.XTick at 0x2097159e8>,\n  <matplotlib.axis.XTick at 0x209719438>,\n  <matplotlib.axis.XTick at 0x209719e48>,\n  <matplotlib.axis.XTick at 0x20971c898>,\n  <matplotlib.axis.XTick at 0x2097222e8>,\n  <matplotlib.axis.XTick at 0x209722cf8>,\n  <matplotlib.axis.XTick at 0x209726748>,\n  <matplotlib.axis.XTick at 0x209729198>,\n  <matplotlib.axis.XTick at 0x209729ba8>,\n  <matplotlib.axis.XTick at 0x20972e5f8>,\n  <matplotlib.axis.XTick at 0x209732048>,\n  <matplotlib.axis.XTick at 0x209732b00>,\n  <matplotlib.axis.XTick at 0x2097364e0>,\n  <matplotlib.axis.XTick at 0x209736ef0>,\n  <matplotlib.axis.XTick at 0x20973a940>,\n  <matplotlib.axis.XTick at 0x20973d390>,\n  <matplotlib.axis.XTick at 0x20973dda0>,\n  <matplotlib.axis.XTick at 0x2097437f0>,\n  <matplotlib.axis.XTick at 0x209747240>,\n  <matplotlib.axis.XTick at 0x209747c50>,\n  <matplotlib.axis.XTick at 0x20974b6a0>,\n  <matplotlib.axis.XTick at 0x2097500f0>,\n  <matplotlib.axis.XTick at 0x209750b00>,\n  <matplotlib.axis.XTick at 0x209754550>,\n  <matplotlib.axis.XTick at 0x209754f60>,\n  <matplotlib.axis.XTick at 0x2097579b0>,\n  <matplotlib.axis.XTick at 0x20975b400>,\n  <matplotlib.axis.XTick at 0x20975be10>,\n  <matplotlib.axis.XTick at 0x209760860>,\n  <matplotlib.axis.XTick at 0x2097642b0>,\n  <matplotlib.axis.XTick at 0x209764cc0>,\n  <matplotlib.axis.XTick at 0x209768710>,\n  <matplotlib.axis.XTick at 0x20976b160>,\n  <matplotlib.axis.XTick at 0x20976bb70>,\n  <matplotlib.axis.XTick at 0x2118f65c0>,\n  <matplotlib.axis.XTick at 0x2118f6fd0>,\n  <matplotlib.axis.XTick at 0x2118f8a20>,\n  <matplotlib.axis.XTick at 0x2118fc470>,\n  <matplotlib.axis.XTick at 0x2118fce80>,\n  <matplotlib.axis.XTick at 0x2119008d0>,\n  <matplotlib.axis.XTick at 0x211903320>,\n  <matplotlib.axis.XTick at 0x211903d30>,\n  <matplotlib.axis.XTick at 0x21190b780>,\n  <matplotlib.axis.XTick at 0x21190d1d0>,\n  <matplotlib.axis.XTick at 0x21190dbe0>,\n  <matplotlib.axis.XTick at 0x211911630>,\n  <matplotlib.axis.XTick at 0x211916080>,\n  <matplotlib.axis.XTick at 0x211916a90>,\n  <matplotlib.axis.XTick at 0x2119194e0>,\n  <matplotlib.axis.XTick at 0x211919ef0>,\n  <matplotlib.axis.XTick at 0x21191f940>,\n  <matplotlib.axis.XTick at 0x211922390>,\n  <matplotlib.axis.XTick at 0x211922da0>,\n  <matplotlib.axis.XTick at 0x2119257f0>,\n  <matplotlib.axis.XTick at 0x21192a240>,\n  <matplotlib.axis.XTick at 0x21192ac50>,\n  <matplotlib.axis.XTick at 0x21192d6a0>,\n  <matplotlib.axis.XTick at 0x2119320f0>,\n  <matplotlib.axis.XTick at 0x211932b00>,\n  <matplotlib.axis.XTick at 0x211936550>,\n  <matplotlib.axis.XTick at 0x211936f60>,\n  <matplotlib.axis.XTick at 0x2119399b0>,\n  <matplotlib.axis.XTick at 0x21193f400>,\n  <matplotlib.axis.XTick at 0x21193fe10>,\n  <matplotlib.axis.XTick at 0x211942860>,\n  <matplotlib.axis.XTick at 0x2119472b0>,\n  <matplotlib.axis.XTick at 0x211947cc0>,\n  <matplotlib.axis.XTick at 0x21194b710>,\n  <matplotlib.axis.XTick at 0x21194f160>,\n  <matplotlib.axis.XTick at 0x21194fb70>,\n  <matplotlib.axis.XTick at 0x2119535c0>,\n  <matplotlib.axis.XTick at 0x211953fd0>,\n  <matplotlib.axis.XTick at 0x211956a20>,\n  <matplotlib.axis.XTick at 0x21195d470>,\n  <matplotlib.axis.XTick at 0x21195de80>,\n  <matplotlib.axis.XTick at 0x2119608d0>,\n  <matplotlib.axis.XTick at 0x211964320>,\n  <matplotlib.axis.XTick at 0x211964d30>,\n  <matplotlib.axis.XTick at 0x211968780>,\n  <matplotlib.axis.XTick at 0x21196b1d0>,\n  <matplotlib.axis.XTick at 0x21196bbe0>,\n  <matplotlib.axis.XTick at 0x211971630>,\n  <matplotlib.axis.XTick at 0x211974080>,\n  <matplotlib.axis.XTick at 0x211974a90>,\n  <matplotlib.axis.XTick at 0x21333d4e0>,\n  <matplotlib.axis.XTick at 0x21333def0>,\n  <matplotlib.axis.XTick at 0x213340940>,\n  <matplotlib.axis.XTick at 0x213344390>,\n  <matplotlib.axis.XTick at 0x213344da0>,\n  <matplotlib.axis.XTick at 0x2133497f0>,\n  <matplotlib.axis.XTick at 0x21334d240>,\n  <matplotlib.axis.XTick at 0x21334dc50>,\n  <matplotlib.axis.XTick at 0x2133516a0>,\n  <matplotlib.axis.XTick at 0x2133540f0>,\n  <matplotlib.axis.XTick at 0x213354ac8>,\n  <matplotlib.axis.XTick at 0x213357518>,\n  <matplotlib.axis.XTick at 0x213357f28>,\n  <matplotlib.axis.XTick at 0x21335d978>,\n  <matplotlib.axis.XTick at 0x2133613c8>,\n  <matplotlib.axis.XTick at 0x213361dd8>,\n  <matplotlib.axis.XTick at 0x213365828>,\n  <matplotlib.axis.XTick at 0x213369278>,\n  <matplotlib.axis.XTick at 0x213369c88>,\n  <matplotlib.axis.XTick at 0x21336c6d8>,\n  <matplotlib.axis.XTick at 0x213373128>,\n  <matplotlib.axis.XTick at 0x213373b38>,\n  <matplotlib.axis.XTick at 0x213376588>,\n  <matplotlib.axis.XTick at 0x213376f98>,\n  <matplotlib.axis.XTick at 0x21337a9e8>,\n  <matplotlib.axis.XTick at 0x21337e438>,\n  <matplotlib.axis.XTick at 0x21337ee48>,\n  <matplotlib.axis.XTick at 0x213381898>,\n  <matplotlib.axis.XTick at 0x2133872e8>,\n  <matplotlib.axis.XTick at 0x213387cf8>,\n  <matplotlib.axis.XTick at 0x21338a748>,\n  <matplotlib.axis.XTick at 0x21338e198>,\n  <matplotlib.axis.XTick at 0x21338eba8>,\n  <matplotlib.axis.XTick at 0x2133925f8>,\n  <matplotlib.axis.XTick at 0x213398048>,\n  <matplotlib.axis.XTick at 0x213398a58>,\n  <matplotlib.axis.XTick at 0x21339b4a8>,\n  <matplotlib.axis.XTick at 0x21339beb8>,\n  <matplotlib.axis.XTick at 0x21339e908>,\n  <matplotlib.axis.XTick at 0x2133a2358>,\n  <matplotlib.axis.XTick at 0x2133a2d68>,\n  <matplotlib.axis.XTick at 0x2133a67b8>,\n  <matplotlib.axis.XTick at 0x2133ad208>,\n  <matplotlib.axis.XTick at 0x2133adc18>,\n  <matplotlib.axis.XTick at 0x2133af668>,\n  <matplotlib.axis.XTick at 0x2133b50b8>,\n  <matplotlib.axis.XTick at 0x2133b5ac8>,\n  <matplotlib.axis.XTick at 0x2133b8518>,\n  <matplotlib.axis.XTick at 0x2133b8f28>,\n  <matplotlib.axis.XTick at 0x2133bc978>,\n  <matplotlib.axis.XTick at 0x2133c23c8>,\n  <matplotlib.axis.XTick at 0x2133c2dd8>,\n  <matplotlib.axis.XTick at 0x2133c4828>,\n  <matplotlib.axis.XTick at 0x2133c9278>,\n  <matplotlib.axis.XTick at 0x2133c9c88>,\n  <matplotlib.axis.XTick at 0x2133cc6d8>,\n  <matplotlib.axis.XTick at 0x2133d0128>,\n  <matplotlib.axis.XTick at 0x2133d0b38>,\n  <matplotlib.axis.XTick at 0x2133d6588>,\n  <matplotlib.axis.XTick at 0x2133d6f98>,\n  <matplotlib.axis.XTick at 0x2133d99e8>,\n  <matplotlib.axis.XTick at 0x2133dd438>,\n  <matplotlib.axis.XTick at 0x2133dde48>,\n  <matplotlib.axis.XTick at 0x2133e1898>,\n  <matplotlib.axis.XTick at 0x2133e52e8>,\n  <matplotlib.axis.XTick at 0x2133e5cf8>,\n  <matplotlib.axis.XTick at 0x2133eb748>,\n  <matplotlib.axis.XTick at 0x2133ee198>,\n  <matplotlib.axis.XTick at 0x2133eeba8>,\n  <matplotlib.axis.XTick at 0x2133f15f8>,\n  <matplotlib.axis.XTick at 0x2133f7048>,\n  <matplotlib.axis.XTick at 0x2133f7a58>,\n  <matplotlib.axis.XTick at 0x2133f94a8>,\n  <matplotlib.axis.XTick at 0x2133f9eb8>,\n  <matplotlib.axis.XTick at 0x2133ff908>,\n  <matplotlib.axis.XTick at 0x213402358>,\n  <matplotlib.axis.XTick at 0x213402d68>,\n  <matplotlib.axis.XTick at 0x2134057b8>,\n  <matplotlib.axis.XTick at 0x21340b208>,\n  <matplotlib.axis.XTick at 0x21340bc18>,\n  <matplotlib.axis.XTick at 0x21340d668>,\n  <matplotlib.axis.XTick at 0x2134140b8>,\n  <matplotlib.axis.XTick at 0x213414ac8>,\n  <matplotlib.axis.XTick at 0x213416518>,\n  <matplotlib.axis.XTick at 0x213416f28>,\n  <matplotlib.axis.XTick at 0x21341c978>,\n  <matplotlib.axis.XTick at 0x2134203c8>,\n  <matplotlib.axis.XTick at 0x213420dd8>,\n  <matplotlib.axis.XTick at 0x213423828>,\n  <matplotlib.axis.XTick at 0x213428278>,\n  <matplotlib.axis.XTick at 0x213428c88>,\n  <matplotlib.axis.XTick at 0x21342b6d8>,\n  <matplotlib.axis.XTick at 0x213430128>,\n  <matplotlib.axis.XTick at 0x213430b38>,\n  <matplotlib.axis.XTick at 0x213433588>,\n  <matplotlib.axis.XTick at 0x213433f98>,\n  <matplotlib.axis.XTick at 0x2134389e8>,\n  <matplotlib.axis.XTick at 0x21343c438>,\n  <matplotlib.axis.XTick at 0x21343ce48>,\n  <matplotlib.axis.XTick at 0x213440898>,\n  <matplotlib.axis.XTick at 0x2134452e8>,\n  <matplotlib.axis.XTick at 0x213445cf8>,\n  <matplotlib.axis.XTick at 0x213448748>,\n  <matplotlib.axis.XTick at 0x21344d198>,\n  <matplotlib.axis.XTick at 0x21344dba8>,\n  <matplotlib.axis.XTick at 0x2134525f8>,\n  <matplotlib.axis.XTick at 0x213457048>,\n  <matplotlib.axis.XTick at 0x213457a58>,\n  <matplotlib.axis.XTick at 0x21345a4a8>,\n  <matplotlib.axis.XTick at 0x21345aeb8>,\n  <matplotlib.axis.XTick at 0x21345e908>,\n  <matplotlib.axis.XTick at 0x213462358>,\n  <matplotlib.axis.XTick at 0x213462d68>,\n  <matplotlib.axis.XTick at 0x2134667b8>,\n  <matplotlib.axis.XTick at 0x21346a208>,\n  <matplotlib.axis.XTick at 0x21346ac18>,\n  <matplotlib.axis.XTick at 0x21346e668>,\n  <matplotlib.axis.XTick at 0x2134720b8>,\n  <matplotlib.axis.XTick at 0x213472ac8>,\n  <matplotlib.axis.XTick at 0x213476518>,\n  <matplotlib.axis.XTick at 0x213476f28>,\n  <matplotlib.axis.XTick at 0x21347b978>,\n  <matplotlib.axis.XTick at 0x21347e3c8>,\n  <matplotlib.axis.XTick at 0x21347edd8>,\n  <matplotlib.axis.XTick at 0x213483828>,\n  <matplotlib.axis.XTick at 0x213486278>,\n  <matplotlib.axis.XTick at 0x213486c88>],\n <a list of 239 Text xticklabel objects>)"
      ]
     },
     "execution_count": 64,
     "output_type": "execute_result",
     "metadata": {}
    }
   ],
   "source": [
    "plt.xticks(ind+width/2, unit_names)"
   ]
  },
  {
   "cell_type": "code",
   "execution_count": 63,
   "metadata": {},
   "outputs": [
    {
     "data": {
      "text/plain": [
       "([<matplotlib.axis.YTick at 0x1d6524dd8>],\n <a list of 1 Text yticklabel objects>)"
      ]
     },
     "execution_count": 63,
     "output_type": "execute_result",
     "metadata": {}
    }
   ],
   "source": [
    "plt.yticks(np.arange(0, 1, 10))"
   ]
  },
  {
   "cell_type": "code",
   "execution_count": 65,
   "metadata": {},
   "outputs": [],
   "source": [
    "topic_labels = ['Topic #{}'.format(k) for k in range(K)]"
   ]
  },
  {
   "cell_type": "code",
   "execution_count": 66,
   "metadata": {},
   "outputs": [],
   "source": [
    "plt.legend([p[0] for p in plots], topic_labels)\n",
    "plt.show()"
   ]
  },
  {
   "cell_type": "code",
   "execution_count": 67,
   "metadata": {},
   "outputs": [
    {
     "data": {
      "text/plain": [
       "<matplotlib.collections.PolyCollection at 0x213617c88>"
      ]
     },
     "execution_count": 67,
     "output_type": "execute_result",
     "metadata": {}
    }
   ],
   "source": [
    "# Heat map\n",
    "# Ref: http://nbviewer.ipython.org/5427209\n",
    "# Ref: http://code.activestate.com/recipes/578175-hierarchical-clustering-heatmap-python/\n",
    "plt.pcolor(doctopic, norm=None, cmap='Blues')"
   ]
  },
  {
   "cell_type": "code",
   "execution_count": 69,
   "metadata": {},
   "outputs": [],
   "source": [
    "# put the major ticks at the middle of each cell\n",
    "# the trailing semicolon ';' suppresses output\n",
    "plt.yticks(np.arange(doctopic.shape[0])+0.5, unit_names);"
   ]
  },
  {
   "cell_type": "code",
   "execution_count": 70,
   "metadata": {},
   "outputs": [],
   "source": [
    "plt.xticks(np.arange(doctopic.shape[1])+0.5, topic_labels);"
   ]
  },
  {
   "cell_type": "code",
   "execution_count": 71,
   "metadata": {},
   "outputs": [],
   "source": [
    "# flip the y-axis so the texts are in the order we anticipate (Austen first, then Brontë)\n",
    "plt.gca().invert_yaxis()"
   ]
  },
  {
   "cell_type": "code",
   "execution_count": 72,
   "metadata": {},
   "outputs": [
    {
     "data": {
      "text/plain": [
       "(array([  0.5,   1.5,   2.5,   3.5,   4.5,   5.5,   6.5,   7.5,   8.5,\n          9.5,  10.5,  11.5,  12.5,  13.5,  14.5,  15.5,  16.5,  17.5,\n         18.5,  19.5,  20.5,  21.5,  22.5,  23.5,  24.5,  25.5,  26.5,\n         27.5,  28.5,  29.5,  30.5,  31.5,  32.5,  33.5,  34.5,  35.5,\n         36.5,  37.5,  38.5,  39.5,  40.5,  41.5,  42.5,  43.5,  44.5,\n         45.5,  46.5,  47.5,  48.5,  49.5,  50.5,  51.5,  52.5,  53.5,\n         54.5,  55.5,  56.5,  57.5,  58.5,  59.5,  60.5,  61.5,  62.5,\n         63.5,  64.5,  65.5,  66.5,  67.5,  68.5,  69.5,  70.5,  71.5,\n         72.5,  73.5,  74.5,  75.5,  76.5,  77.5,  78.5,  79.5,  80.5,\n         81.5,  82.5,  83.5,  84.5,  85.5,  86.5,  87.5,  88.5,  89.5,\n         90.5,  91.5,  92.5,  93.5,  94.5,  95.5,  96.5,  97.5,  98.5,  99.5]),\n <a list of 100 Text xticklabel objects>)"
      ]
     },
     "execution_count": 72,
     "output_type": "execute_result",
     "metadata": {}
    }
   ],
   "source": [
    "# rotate the ticks on the x-axis\n",
    "plt.xticks(rotation=90)"
   ]
  },
  {
   "cell_type": "code",
   "execution_count": 73,
   "metadata": {},
   "outputs": [
    {
     "data": {
      "text/plain": [
       "<matplotlib.colorbar.Colorbar at 0x213c18f28>"
      ]
     },
     "execution_count": 73,
     "output_type": "execute_result",
     "metadata": {}
    }
   ],
   "source": [
    "# add a legend\n",
    "plt.colorbar(cmap='Blues')"
   ]
  },
  {
   "cell_type": "code",
   "execution_count": 74,
   "metadata": {},
   "outputs": [
    {
     "name": "stderr",
     "output_type": "stream",
     "text": [
      "/usr/local/lib/python3.4/site-packages/matplotlib/tight_layout.py:225: UserWarning: tight_layout : falling back to Agg renderer\n  warnings.warn(\"tight_layout : falling back to Agg renderer\")\n"
     ]
    }
   ],
   "source": [
    "plt.tight_layout()  # fixes margins"
   ]
  },
  {
   "cell_type": "code",
   "execution_count": 75,
   "metadata": {},
   "outputs": [],
   "source": [
    "plt.show()"
   ]
  },
  {
   "cell_type": "code",
   "execution_count": null,
   "metadata": {},
   "outputs": [],
   "source": [
    ""
   ]
  }
 ],
 "metadata": {
  "kernelspec": {
   "display_name": "Python 3",
   "language": "python",
   "name": "python3"
  },
  "language_info": {
   "codemirror_mode": {
    "name": "ipython",
    "version": 3.0
   },
   "file_extension": ".py",
   "mimetype": "text/x-python",
   "name": "python",
   "nbconvert_exporter": "python",
   "pygments_lexer": "ipython3",
   "version": "3.4.3"
  }
 },
 "nbformat": 4,
 "nbformat_minor": 0
}