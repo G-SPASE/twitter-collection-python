{
 "cells": [
  {
   "cell_type": "code",
   "execution_count": 9,
   "metadata": {},
   "outputs": [],
   "source": [
    "import csv\n",
    "from datetime import datetime, date, time\n",
    "import numpy as np\n",
    "import pandas as pd\n",
    "\n",
    "filename = '/Users/koitaroh/Documents/GitHub/GeoTweetCollector/data/tweet_table_20150317140247.csv'"
   ]
  },
  {
   "cell_type": "code",
   "execution_count": 11,
   "metadata": {},
   "outputs": [],
   "source": [
    "tweet_df = pd.read_csv(filename)"
   ]
  },
  {
   "cell_type": "code",
   "execution_count": 12,
   "metadata": {},
   "outputs": [
    {
     "data": {
      "text/html": [
       "<div style=\"max-height:1000px;max-width:1500px;overflow:auto;\">\n",
       "<table border=\"1\" class=\"dataframe\">\n",
       "  <thead>\n",
       "    <tr style=\"text-align: right;\">\n",
       "      <th></th>\n",
       "      <th>id</th>\n",
       "      <th>tweet_id</th>\n",
       "      <th>datetime</th>\n",
       "      <th>time</th>\n",
       "      <th>user_name</th>\n",
       "      <th>user_id</th>\n",
       "      <th>x</th>\n",
       "      <th>y</th>\n",
       "      <th>raw_tweet</th>\n",
       "      <th>words</th>\n",
       "      <th>nouns</th>\n",
       "      <th>verbs</th>\n",
       "      <th>adjs</th>\n",
       "    </tr>\n",
       "  </thead>\n",
       "  <tbody>\n",
       "    <tr>\n",
       "      <th>0</th>\n",
       "      <td>1</td>\n",
       "      <td>577696760300113921</td>\n",
       "      <td>2015-03-17 14:03:35</td>\n",
       "      <td>14:03:35</td>\n",
       "      <td>0912momona_f</td>\n",
       "      <td>2171987316</td>\n",
       "      <td>139.360370</td>\n",
       "      <td>35.392547</td>\n",
       "      <td>よろしく,(^∞,^)</td>\n",
       "      <td>よろしく  (^∞ ^)</td>\n",
       "      <td>(^∞ ^)</td>\n",
       "      <td>NaN</td>\n",
       "      <td>NaN</td>\n",
       "    </tr>\n",
       "    <tr>\n",
       "      <th>1</th>\n",
       "      <td>2</td>\n",
       "      <td>577696761126350848</td>\n",
       "      <td>2015-03-17 14:03:35</td>\n",
       "      <td>14:03:35</td>\n",
       "      <td>KohseiBbp1211</td>\n",
       "      <td>2337878624</td>\n",
       "      <td>133.011152</td>\n",
       "      <td>33.853656</td>\n",
       "      <td>急遽決まった松山！！しんごとむっくんと３人でいきよるなう</td>\n",
       "      <td>急遽 決まっ た 松山 ！ ！ しん ごと むっくんと ３ 人 で いき よる なう</td>\n",
       "      <td>松山 しん ごと むっくんと ３ 人</td>\n",
       "      <td>決まる いきる よる</td>\n",
       "      <td>ない</td>\n",
       "    </tr>\n",
       "    <tr>\n",
       "      <th>2</th>\n",
       "      <td>3</td>\n",
       "      <td>577696761797427200</td>\n",
       "      <td>2015-03-17 14:03:35</td>\n",
       "      <td>14:03:35</td>\n",
       "      <td>69magic_s</td>\n",
       "      <td>2832023864</td>\n",
       "      <td>139.771677</td>\n",
       "      <td>35.626511</td>\n",
       "      <td>お台場なう♡♡♡♡たのしんでます、わら</td>\n",
       "      <td>お 台場 なう ♡♡♡♡ たのしん で ます 、 わら</td>\n",
       "      <td>台場 ♡♡♡♡ わら</td>\n",
       "      <td>たのしむ</td>\n",
       "      <td>ない</td>\n",
       "    </tr>\n",
       "  </tbody>\n",
       "</table>\n",
       "</div>"
      ]
     },
     "output_type": "execute_result",
     "metadata": {}
    }
   ],
   "source": [
    "tweet_df[:3]"
   ]
  },
  {
   "cell_type": "code",
   "execution_count": 27,
   "metadata": {},
   "outputs": [
    {
     "data": {
      "text/html": [
       "<div style=\"max-height:1000px;max-width:1500px;overflow:auto;\">\n",
       "<table border=\"1\" class=\"dataframe\">\n",
       "  <thead>\n",
       "    <tr style=\"text-align: right;\">\n",
       "      <th></th>\n",
       "      <th>id</th>\n",
       "      <th>tweet_id</th>\n",
       "      <th>datetime</th>\n",
       "      <th>time</th>\n",
       "      <th>user_name</th>\n",
       "      <th>user_id</th>\n",
       "      <th>x</th>\n",
       "      <th>y</th>\n",
       "      <th>raw_tweet</th>\n",
       "      <th>words</th>\n",
       "      <th>nouns</th>\n",
       "      <th>verbs</th>\n",
       "      <th>adjs</th>\n",
       "      <th>weekday</th>\n",
       "      <th>hour</th>\n",
       "    </tr>\n",
       "  </thead>\n",
       "  <tbody>\n",
       "    <tr>\n",
       "      <th>2000</th>\n",
       "      <td>2001</td>\n",
       "      <td>577698752724516865</td>\n",
       "      <td>2015-03-17 14:11:30</td>\n",
       "      <td>14:11:30</td>\n",
       "      <td>msa_fam</td>\n",
       "      <td>723918722</td>\n",
       "      <td>140.564856</td>\n",
       "      <td>39.310917</td>\n",
       "      <td>(*ｐω-)｡O゜おやすみしたいぐらいいい天気。</td>\n",
       "      <td>(* ｐ ω -)｡ O ゜ お やすみ し たい ぐらい いい 天気 。</td>\n",
       "      <td>(* -)｡ O 天気</td>\n",
       "      <td>やすむ する</td>\n",
       "      <td>いい</td>\n",
       "      <td>1</td>\n",
       "      <td>14</td>\n",
       "    </tr>\n",
       "    <tr>\n",
       "      <th>2001</th>\n",
       "      <td>2002</td>\n",
       "      <td>577698752984563712</td>\n",
       "      <td>2015-03-17 14:11:30</td>\n",
       "      <td>14:11:30</td>\n",
       "      <td>rina990416</td>\n",
       "      <td>2521860966</td>\n",
       "      <td>139.595895</td>\n",
       "      <td>35.587381</td>\n",
       "      <td>らいんほしい。</td>\n",
       "      <td>らい ん ほしい 。</td>\n",
       "      <td>らい</td>\n",
       "      <td>NaN</td>\n",
       "      <td>ほしい</td>\n",
       "      <td>1</td>\n",
       "      <td>14</td>\n",
       "    </tr>\n",
       "    <tr>\n",
       "      <th>2002</th>\n",
       "      <td>2003</td>\n",
       "      <td>577698755039784960</td>\n",
       "      <td>2015-03-17 14:11:30</td>\n",
       "      <td>14:11:30</td>\n",
       "      <td>Riko717T</td>\n",
       "      <td>2439297914</td>\n",
       "      <td>130.742838</td>\n",
       "      <td>32.745063</td>\n",
       "      <td>え、なにが？笑</td>\n",
       "      <td>え 、 なに が ？ 笑</td>\n",
       "      <td>なに 笑</td>\n",
       "      <td>NaN</td>\n",
       "      <td>NaN</td>\n",
       "      <td>1</td>\n",
       "      <td>14</td>\n",
       "    </tr>\n",
       "    <tr>\n",
       "      <th>2003</th>\n",
       "      <td>2004</td>\n",
       "      <td>577698761343795200</td>\n",
       "      <td>2015-03-17 14:11:32</td>\n",
       "      <td>14:11:32</td>\n",
       "      <td>A94921125</td>\n",
       "      <td>3092079968</td>\n",
       "      <td>139.103056</td>\n",
       "      <td>36.388713</td>\n",
       "      <td>ラジャψ(｀∇´)ψ乳さん、ありがと〜サムライのトップに表示されるのはどうすんのかな？乳さん...</td>\n",
       "      <td>ラジャ ψ (｀∇´) ψ 乳 さん 、 ありがと 〜 サムライ の トップ に 表示 さ ...</td>\n",
       "      <td>ラジャ (｀∇´) 乳 さん サムライ トップ 表示 の の 乳 さん トップ 表示 募集 ...</td>\n",
       "      <td>する れる する する する くれる</td>\n",
       "      <td>NaN</td>\n",
       "      <td>1</td>\n",
       "      <td>14</td>\n",
       "    </tr>\n",
       "    <tr>\n",
       "      <th>2004</th>\n",
       "      <td>2005</td>\n",
       "      <td>577698761209589760</td>\n",
       "      <td>2015-03-17 14:11:32</td>\n",
       "      <td>14:11:32</td>\n",
       "      <td>redgittu</td>\n",
       "      <td>449817667</td>\n",
       "      <td>137.739394</td>\n",
       "      <td>34.710356</td>\n",
       "      <td>自分は、お汁粉かな～。小豆の甘さと、焼いたまる餅がなんとも美味しいです。</td>\n",
       "      <td>自分 は 、 お 汁粉 か な ～。 小豆 の 甘 さ と 、 焼い た まる 餅 が なん...</td>\n",
       "      <td>自分 汁粉 ～。 小豆 さ 餅</td>\n",
       "      <td>焼く</td>\n",
       "      <td>甘い 美味しい</td>\n",
       "      <td>1</td>\n",
       "      <td>14</td>\n",
       "    </tr>\n",
       "  </tbody>\n",
       "</table>\n",
       "</div>"
      ]
     },
     "output_type": "execute_result",
     "metadata": {}
    }
   ],
   "source": [
    "tweet_df_time = tweet_df['datetime']\n",
    "temp = pd.DatetimeIndex(tweet_df['datetime'])\n",
    "# temp = tweet_df['datetime'].dt.weekday\n",
    "tweet_df['weekday'] = temp.weekday\n",
    "tweet_df['hour'] = temp.hour\n",
    "tweet_df[2000:2005]"
   ]
  },
  {
   "cell_type": "code",
   "execution_count": 30,
   "metadata": {},
   "outputs": [
    {
     "data": {
      "text/plain": [
       "449817667     19\n3075263383    18\n569055211     16\n2950197445    16\n2803136088    12\n620207919     12\n2381583410    11\n2297652984    11\n2164902108    11\n2939329688    10\n2953533997     9\n2691580958     9\n2992340460     9\n181098634      8\n2948873400     8\n2794370392     8\n1948963284     8\n2501347940     8\n2752253265     8\n1399828956     7\ndtype: int64"
      ]
     },
     "execution_count": 30,
     "output_type": "execute_result",
     "metadata": {}
    }
   ],
   "source": [
    "tweet_df_counts = tweet_df['user_id'].value_counts()\n",
    "tweet_df_counts[:20]"
   ]
  },
  {
   "cell_type": "code",
   "execution_count": 31,
   "metadata": {},
   "outputs": [
    {
     "data": {
      "text/plain": [
       "<matplotlib.axes._subplots.AxesSubplot at 0x1120bee80>"
      ]
     },
     "execution_count": 31,
     "output_type": "execute_result",
     "metadata": {}
    }
   ],
   "source": [
    "tweet_df_counts[:30].plot(kind='bar')"
   ]
  },
  {
   "cell_type": "code",
   "execution_count": 3,
   "metadata": {},
   "outputs": [
    {
     "name": "stdout",
     "output_type": "stream",
     "text": [
      "2006-11-21 16:30:00\n2015-03-17 14:03:35\n"
     ]
    }
   ],
   "source": [
    "reader = csv.reader(open(filename, encoding=\"utf-8\"))\n",
    "next(reader)\n",
    "dt = datetime.strptime(\"21/11/06 16:30\", \"%d/%m/%y %H:%M\")\n",
    "print(dt)\n",
    "dt2 = datetime.strptime(\"2015-03-17 14:03:35\", \"%Y-%m-%d %H:%M:%S\")\n",
    "print(dt2)"
   ]
  },
  {
   "cell_type": "code",
   "execution_count": 15,
   "metadata": {},
   "outputs": [
    {
     "ename": "SyntaxError",
     "evalue": "unexpected EOF while parsing (<ipython-input-15-2642ad67173a>, line 4)",
     "output_type": "error",
     "traceback": [
      "\u001b[0;36m  File \u001b[0;32m\"<ipython-input-15-2642ad67173a>\"\u001b[0;36m, line \u001b[0;32m4\u001b[0m\n\u001b[0;31m    \u001b[0m\n\u001b[0m    ^\u001b[0m\n\u001b[0;31mSyntaxError\u001b[0m\u001b[0;31m:\u001b[0m unexpected EOF while parsing\n"
     ]
    }
   ],
   "source": [
    "for id, tweet_id, datetime_str, time_str, user_name, user_id, x_str, y_str, raw_tweet, words, nouns, verbs, adjs in reader:\n",
    "    tweet_datetime = datetime.strptime(datetime_str, \"%Y-%m-%d %H:%M:%S\")\n",
    "    if tweet_datetime.weekday() < 5:\n",
    "        continue"
   ]
  },
  {
   "cell_type": "code",
   "execution_count": 1,
   "metadata": {},
   "outputs": [],
   "source": [
    "# classify tweets into 7 day classes\n",
    "# if monday, tuesday, wednesday, thursday, friday, saturday, sunday.\n",
    "ret = csv.reader(open(filename, encoding=\"utf-8\"))\n",
    "tweets = [r[9] for r in ret]\n",
    "tweets2 = []\n",
    "for tweet in tweets[:]:\n",
    "    tweet2 = tweet.replace(',', ' ')\n",
    "    # print(tweet)\n",
    "    print(tweet2)\n",
    "    tweets2.append(tweet2)\n",
    "    # if u'@' in tweet2:\n",
    "    #     tweets.remove(tweet)\n",
    "    # if len(tweet) <= 3:\n",
    "    #     tweets.remove(tweet)\n",
    "# print(tweets2)"
   ]
  },
  {
   "cell_type": "code",
   "execution_count": null,
   "metadata": {},
   "outputs": [],
   "source": [
    "# classify tweets into 48 classes (in every 30 min)"
   ]
  }
 ],
 "metadata": {
  "kernelspec": {
   "display_name": "Python 3",
   "language": "python",
   "name": "python3"
  },
  "language_info": {
   "codemirror_mode": {
    "name": "ipython",
    "version": 3.0
   },
   "file_extension": ".py",
   "mimetype": "text/x-python",
   "name": "python",
   "nbconvert_exporter": "python",
   "pygments_lexer": "ipython3",
   "version": "3.4.3"
  }
 },
 "nbformat": 4,
 "nbformat_minor": 0
}