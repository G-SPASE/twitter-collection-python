{
 "cells": [
  {
   "cell_type": "code",
   "execution_count": 2,
   "metadata": {
    "collapsed": false
   },
   "outputs": [],
   "source": [
    "import os\n",
    "import numpy as np\n",
    "\n",
    "num_topics = 20\n",
    "mallet_vocab = []\n",
    "word_topic_counts = []\n",
    "\n",
    "\n",
    "with open(\"/Users/koitaroh/Documents/GitHub/GeoTweetCollector/data/word-topic-tweet-20150709.txt\") as f:\n",
    "    for line in f:\n",
    "        _, word, *topic_count_pairs = line.rstrip().split(' ')\n",
    "        topic_count_pairs = [pair.split(':') for pair in topic_count_pairs]\n",
    "        mallet_vocab.append(word)\n",
    "        counts = np.zeros(num_topics)\n",
    "        for topic, count in topic_count_pairs:\n",
    "            counts[int(topic)] = int(count)\n",
    "        word_topic_counts.append(counts)\n",
    "\n",
    "word_topic = np.array(word_topic_counts)"
   ]
  },
  {
   "cell_type": "code",
   "execution_count": 3,
   "metadata": {
    "collapsed": false
   },
   "outputs": [
    {
     "data": {
      "text/plain": [
       "(383187, 20)"
      ]
     },
     "execution_count": 3,
     "metadata": {},
     "output_type": "execute_result"
    }
   ],
   "source": [
    "word_topic.shape"
   ]
  },
  {
   "cell_type": "code",
   "execution_count": 4,
   "metadata": {
    "collapsed": true
   },
   "outputs": [],
   "source": [
    "# np.sum(word_topic, axis=0) sums across rows, so it yields totals of words assigned to topics\n",
    "word_topic = word_topic / np.sum(word_topic, axis=0)"
   ]
  },
  {
   "cell_type": "code",
   "execution_count": 5,
   "metadata": {
    "collapsed": false
   },
   "outputs": [
    {
     "name": "stdout",
     "output_type": "stream",
     "text": [
      "Topic #0:\n",
      "0.046 : 俺\n",
      "0.037 : 人\n",
      "0.033 : いい\n",
      "0.017 : ない\n",
      "0.016 : 言っ\n",
      "0.016 : 誰\n",
      "0.016 : 言わ\n",
      "0.015 : れる\n",
      "0.015 : 自分\n",
      "0.012 : 思っ\n",
      "Topic #1:\n",
      "0.044 : 人\n",
      "0.036 : くれ\n",
      "0.024 : みんな\n",
      "0.023 : ありがと\n",
      "0.019 : 楽しかっ\n",
      "0.016 : 一緒\n",
      "0.013 : 歳\n",
      "0.012 : 幸せ\n",
      "0.011 : めっちゃ\n",
      "0.011 : 大好き\n",
      "Topic #2:\n",
      "0.085 : o\n",
      "0.065 : ありがとう\n",
      "0.057 : ござい\n",
      "0.053 : ﾟ\n",
      "0.051 : ️\n",
      "0.039 : ︎\n",
      "0.032 : 今日\n",
      "0.022 : おはよう\n",
      "0.022 : お願い\n",
      "0.02 : よろしく\n",
      "Topic #3:\n",
      "0.131 : w\n",
      "0.076 : ω\n",
      "0.035 : ww\n",
      "0.034 : www\n",
      "0.031 : д\n",
      "0.026 : いい\n",
      "0.021 : ﾉ\n",
      "0.016 : やばい\n",
      "0.016 : ノ\n",
      "0.01 : ぁ\n",
      "Topic #4:\n",
      "0.031 : 見\n",
      "0.021 : ｗ\n",
      "0.016 : 感じ\n",
      "0.016 : みたい\n",
      "0.01 : 顔\n",
      "0.01 : 思っ\n",
      "0.009 : なかっ\n",
      "0.009 : 前\n",
      "0.007 : なく\n",
      "0.006 : いい\n",
      "Topic #5:\n",
      "0.025 : t\n",
      "0.013 : 買っ\n",
      "0.013 : 円\n",
      "0.01 : 中\n",
      "0.009 : 欲しい\n",
      "0.008 : ライブ\n",
      "0.006 : 曲\n",
      "0.006 : 枚\n",
      "0.005 : 買う\n",
      "0.004 : 服\n",
      "Topic #6:\n",
      "0.039 : in\n",
      "0.034 : 東京\n",
      "0.033 : 駅\n",
      "0.021 : 区\n",
      "0.018 : 都\n",
      "0.018 : 大阪\n",
      "0.017 : なう\n",
      "0.014 : 店\n",
      "0.012 : sta\n",
      "0.011 : タッチ\n",
      "Topic #7:\n",
      "0.027 : いる\n",
      "0.021 : する\n",
      "0.02 : 人\n",
      "0.012 : 的\n",
      "0.011 : 自分\n",
      "0.011 : 事\n",
      "0.009 : もの\n",
      "0.008 : 者\n",
      "0.006 : なく\n",
      "0.006 : 思う\n",
      "Topic #8:\n",
      "0.054 : 一\n",
      "0.05 : 好き\n",
      "0.047 : する\n",
      "0.047 : 方\n",
      "0.038 : 印象\n",
      "0.037 : line\n",
      "0.034 : 最後\n",
      "0.031 : 第\n",
      "0.028 : 一言\n",
      "0.027 : 交換\n",
      "Topic #9:\n",
      "0.344 : ない\n",
      "0.032 : スト\n",
      "0.032 : モン\n",
      "0.029 : マルチ\n",
      "0.013 : 万\n",
      "0.012 : でき\n",
      "0.011 : 上級\n",
      "0.011 : 夢\n",
      "0.01 : 夜\n",
      "0.009 : 金\n",
      "Topic #10:\n",
      "0.02 : 見\n",
      "0.01 : 試合\n",
      "0.009 : 練習\n",
      "0.008 : 大\n",
      "0.008 : 応援\n",
      "0.008 : 部\n",
      "0.008 : 番\n",
      "0.007 : 野球\n",
      "0.007 : 君\n",
      "0.006 : 二\n",
      "Topic #11:\n",
      "0.512 : 笑\n",
      "0.035 : 爆笑\n",
      "0.022 : わら\n",
      "0.017 : ほんま\n",
      "0.014 : まじ\n",
      "0.011 : 俺\n",
      "0.009 : やばい\n",
      "0.007 : はい\n",
      "0.007 : めっちゃ\n",
      "0.006 : とる\n",
      "Topic #12:\n",
      "0.091 : 日\n",
      "0.072 : 時\n",
      "0.056 : 今日\n",
      "0.053 : 明日\n",
      "0.04 : 寝\n",
      "0.037 : 時間\n",
      "0.031 : 最高\n",
      "0.027 : 月\n",
      "0.027 : 仕事\n",
      "0.021 : バイト\n",
      "Topic #13:\n",
      "0.108 : 目\n",
      "0.102 : 回\n",
      "0.096 : かわいい\n",
      "0.077 : きつね\n",
      "0.016 : ない\n",
      "0.006 : いい\n",
      "0.005 : 人\n",
      "0.004 : する\n",
      "0.004 : 俺\n",
      "0.004 : 二\n",
      "Topic #14:\n",
      "0.074 : 県\n",
      "0.072 : 市\n",
      "0.027 : cm\n",
      "0.026 : m\n",
      "0.022 : 時点\n",
      "0.017 : 注意報\n",
      "0.013 : 町\n",
      "0.013 : in\n",
      "0.011 : 風\n",
      "0.01 : 分\n",
      "Topic #15:\n",
      "0.031 : 食べ\n",
      "0.02 : 店\n",
      "0.012 : なう\n",
      "0.01 : 時\n",
      "0.01 : ご飯\n",
      "0.01 : ラーメン\n",
      "0.009 : 屋\n",
      "0.008 : 今日\n",
      "0.008 : 作っ\n",
      "0.008 : 飲み\n",
      "Topic #16:\n",
      "0.037 : 行っ\n",
      "0.032 : 行く\n",
      "0.03 : 行き\n",
      "0.025 : 家\n",
      "0.023 : 来\n",
      "0.021 : 帰っ\n",
      "0.016 : gt\n",
      "0.015 : 車\n",
      "0.014 : 今\n",
      "0.014 : 行こ\n",
      "Topic #17:\n",
      "0.029 : いい\n",
      "0.018 : 卒業\n",
      "0.018 : 年\n",
      "0.017 : なかっ\n",
      "0.015 : 明日\n",
      "0.013 : めっちゃ\n",
      "0.013 : 会\n",
      "0.013 : 先生\n",
      "0.013 : 学校\n",
      "0.013 : 写真\n",
      "Topic #18:\n",
      "0.014 : する\n",
      "0.013 : 痛い\n",
      "0.012 : 頭\n",
      "0.011 : 最近\n",
      "0.011 : 気\n",
      "0.009 : なく\n",
      "0.008 : 風呂\n",
      "0.008 : 入っ\n",
      "0.007 : 部屋\n",
      "0.007 : 悪い\n",
      "Topic #19:\n",
      "0.019 : いっ\n",
      "0.017 : nan\n",
      "0.012 : いく\n",
      "0.012 : じ\n",
      "0.012 : いま\n",
      "0.011 : ひま\n",
      "0.011 : る\n",
      "0.01 : く\n",
      "0.009 : とる\n",
      "0.008 : まっ\n"
     ]
    }
   ],
   "source": [
    "num_top_words = 10\n",
    "mallet_vocab = np.array(mallet_vocab)  # convert vocab from a list to an array so we can use NumPy operations on it\n",
    "for t in range(num_topics):\n",
    "    top_words_idx = np.argsort(word_topic[:,t])[::-1]  # descending order\n",
    "    top_words_idx = top_words_idx[:num_top_words]\n",
    "    top_words = mallet_vocab[top_words_idx]\n",
    "    top_words_shares = word_topic[top_words_idx, t]\n",
    "    print(\"Topic #{}:\".format(t))\n",
    "    for word, share in zip(top_words, top_words_shares):\n",
    "        print(\"{} : {}\".format(np.round(share, 3), word))"
   ]
  },
  {
   "cell_type": "code",
   "execution_count": 9,
   "metadata": {
    "collapsed": true
   },
   "outputs": [],
   "source": [
    "import matplotlib.pyplot as plt\n",
    "num_top_words = 10\n",
    "fontsize_base = 70 / np.max(word_topic) # font size for word with largest share in corpus\n",
    "for t in range(num_topics):\n",
    "    plt.subplot(1, num_topics, t + 1)  # plot numbering starts with 1\n",
    "    plt.ylim(0, num_top_words + 0.5)  # stretch the y-axis to accommodate the words\n",
    "    plt.xticks([])  # remove x-axis markings ('ticks')\n",
    "    plt.yticks([]) # remove y-axis markings ('ticks')\n",
    "    plt.title('Topic #{}'.format(t))\n",
    "    top_words_idx = np.argsort(word_topic[:,t])[::-1]  # descending order\n",
    "    top_words_idx = top_words_idx[:num_top_words]\n",
    "    top_words = mallet_vocab[top_words_idx]\n",
    "    top_words_shares = word_topic[top_words_idx, t]\n",
    "    for i, (word, share) in enumerate(zip(top_words, top_words_shares)):\n",
    "        plt.text(0.3, num_top_words-i-0.5, word, fontsize=fontsize_base*share)"
   ]
  },
  {
   "cell_type": "code",
   "execution_count": 7,
   "metadata": {
    "collapsed": false
   },
   "outputs": [
    {
     "name": "stderr",
     "output_type": "stream",
     "text": [
      "/usr/local/lib/python3.4/site-packages/matplotlib/tight_layout.py:225: UserWarning: tight_layout : falling back to Agg renderer\n",
      "  warnings.warn(\"tight_layout : falling back to Agg renderer\")\n"
     ]
    }
   ],
   "source": [
    "# plt.tight_layout()"
   ]
  },
  {
   "cell_type": "code",
   "execution_count": 10,
   "metadata": {
    "collapsed": true
   },
   "outputs": [],
   "source": [
    "plt.show()"
   ]
  },
  {
   "cell_type": "code",
   "execution_count": 11,
   "metadata": {
    "collapsed": false
   },
   "outputs": [
    {
     "data": {
      "text/plain": [
       "array([19068, 18518, 18691, 22348, 23874, 28370, 32568, 29494, 17203,\n",
       "       19244, 25775, 17144, 17022, 28045, 21672, 25645, 19678, 20036,\n",
       "       20790, 21662])"
      ]
     },
     "execution_count": 11,
     "metadata": {},
     "output_type": "execute_result"
    }
   ],
   "source": [
    "np.sum(word_topic > 0, axis=0)"
   ]
  },
  {
   "cell_type": "code",
   "execution_count": null,
   "metadata": {
    "collapsed": true
   },
   "outputs": [],
   "source": []
  }
 ],
 "metadata": {
  "kernelspec": {
   "display_name": "Python 3",
   "language": "python",
   "name": "python3"
  },
  "language_info": {
   "codemirror_mode": {
    "name": "ipython",
    "version": 3
   },
   "file_extension": ".py",
   "mimetype": "text/x-python",
   "name": "python",
   "nbconvert_exporter": "python",
   "pygments_lexer": "ipython3",
   "version": "3.4.3"
  }
 },
 "nbformat": 4,
 "nbformat_minor": 0
}
